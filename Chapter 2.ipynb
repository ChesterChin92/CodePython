{
 "cells": [
  {
   "cell_type": "markdown",
   "metadata": {},
   "source": [
    "### Chapter 2 – Instructor Notes\n",
    "###### Instruction to Trainer – \n",
    "Demo the following codes, each demo is loosely related to the question, please ensure that students can follow.\n",
    "Suggested flow of the demo. \n",
    "Instructor shall demo a sample code and students will follow. \n",
    "\n",
    "##### Objectives of Chapter 2\n",
    "1.\tAble to user python IDLE. \n",
    "2.\tReplace command line programming with python IDLE.\n",
    "3.  Combining multiple skills learned prevously should not be an issue.\n",
    "\n",
    "##### Scope\n",
    "1.\tDemo Codes should not exceed 6 lines. \n",
    "\n",
    "##### Assistant Level\n",
    "1.\tInstructors are advised to not give away the answers to the student. \n",
    "2.\tAvoid tell them which line is causing an error. (As python had already did, student should be able to figure it out themselves.)\n",
    "3.\tCommon errors are typos or extra spacing.\n",
    "4.\tCommon confusion between double quotes “  and single quotes ‘ in python shell. \n",
    "\n",
    "\n",
    "##### Common mistakes\n",
    "1. Extra space\n",
    "2. Unnecessary or missing indentation\n",
    "3. Confusion between string and int. \n"
   ]
  },
  {
   "cell_type": "markdown",
   "metadata": {},
   "source": [
    "## `if`  else and Conditional statements"
   ]
  },
  {
   "cell_type": "code",
   "execution_count": 1,
   "metadata": {
    "collapsed": true
   },
   "outputs": [],
   "source": [
    "if []:\n",
    "    print(l)"
   ]
  },
  {
   "cell_type": "code",
   "execution_count": 8,
   "metadata": {},
   "outputs": [
    {
     "name": "stdout",
     "output_type": "stream",
     "text": [
      "YAY\n"
     ]
    }
   ],
   "source": [
    "if(True):\n",
    "    print(\"YAY\")"
   ]
  },
  {
   "cell_type": "markdown",
   "metadata": {
    "collapsed": true
   },
   "source": [
    "# Logical Operation\n",
    "1. Greater than : >\n",
    "2. Less than: <\n",
    "3. Equalvalent : ==\n",
    "4. More than or equal: =>\n",
    "5. Less than or equal: =<\n",
    "6. Not equalvalent: !="
   ]
  },
  {
   "cell_type": "code",
   "execution_count": 2,
   "metadata": {},
   "outputs": [
    {
     "name": "stdout",
     "output_type": "stream",
     "text": [
      "OK\n"
     ]
    }
   ],
   "source": [
    "i = 1\n",
    "if(i > 2):\n",
    "    print(\"Good\") #How to get 'Good'.\n",
    "elif (i==1):\n",
    "    print(\"OK\")\n",
    "elif (i==2):\n",
    "    print(\"Chester IS AWESOME!!!\")\n",
    "else:\n",
    "    print(\"Bad\") #How to get 'Bad'.\n",
    "#Q. Can you have 2 'else'?\n",
    "#Q. Can it only work with 'if'?"
   ]
  },
  {
   "cell_type": "code",
   "execution_count": 4,
   "metadata": {},
   "outputs": [
    {
     "name": "stdout",
     "output_type": "stream",
     "text": [
      "True\n",
      "False\n",
      "False\n",
      "True\n",
      "True\n",
      "True\n"
     ]
    }
   ],
   "source": [
    "print(5>1)\n",
    "print(5<1)\n",
    "print(5==1)\n",
    "print(5==5)\n",
    "print(4<=5)\n",
    "print(4>=4)"
   ]
  },
  {
   "cell_type": "markdown",
   "metadata": {},
   "source": [
    "### Exercise\n",
    "---\n",
    "**Q1. Level 1.** Set a variable called 'mood' as **'happy'**. \n",
    "\n",
    "Then if the variable is **'happy'**, then print \"Yay\".\n",
    "\n",
    "**Q2. Level 2.** Create a program that will ask the user about his/her mood. Based on the input table below the program will have different output. \n",
    "\n",
    "Mood | Response \n",
    "--- | --- \n",
    "Happy |  \"YAY\"\n",
    "Sad | \"Be happy\"\n",
    "Hungry | \"I need food!\"\n",
    "---\n",
    "\n",
    "---"
   ]
  },
  {
   "cell_type": "markdown",
   "metadata": {},
   "source": [
    "# Logic Gates\n",
    "\n",
    "**AND** = both have to be true = true; otherwise false\n",
    "\n",
    "**OR** = either one has to be true = true; otherwise false\n",
    "\n",
    "**NOT** = when true = false, and when false = true"
   ]
  },
  {
   "cell_type": "code",
   "execution_count": 1,
   "metadata": {},
   "outputs": [
    {
     "name": "stdout",
     "output_type": "stream",
     "text": [
      "True\n",
      "False\n",
      "True\n",
      "False\n",
      "True\n",
      "False\n",
      "yay\n"
     ]
    }
   ],
   "source": [
    "print(True and True)\n",
    "print(True and False)\n",
    "print(True or False)\n",
    "print(False or False)\n",
    "print(not False)\n",
    "print(not True)\n",
    "i = 5\n",
    "if((i>2) and (i < 10)): \n",
    "    print(\"yay\")"
   ]
  },
  {
   "cell_type": "markdown",
   "metadata": {},
   "source": [
    "### Exercise\n",
    "\n",
    "---\n",
    "\n",
    "**Q3. Level 2.** Set variable x and y to 5 and 10 respectively. Then,\n",
    "\n",
    "1. Write a program that will print True when x is **smaller** than 6 **AND** y is **bigger** than 8.\n",
    "\n",
    "2. Write a program that will print True when x is **bigger** than 8 **AND** y is **smaller** than or **equal** to 20.\n",
    "\n",
    "3. Write a program that will print True when x is **bigger** than 6 **OR** y is **smaller** than 5.\n",
    "\n",
    "4. Write a program that will print True when x is **smaller** than 4 **OR** y is **bigger** than or **equal** to 10.\n",
    "\n",
    "5. Write a program that will print True when x is **NOT** 5.\n",
    "\n",
    "6. Write a program that will print True when y is **NOT** 4.\n",
    "\n",
    "---"
   ]
  },
  {
   "cell_type": "markdown",
   "metadata": {
    "collapsed": true
   },
   "source": [
    "## `while` loop\n",
    "\n",
    "Run while condition is still true"
   ]
  },
  {
   "cell_type": "code",
   "execution_count": 7,
   "metadata": {},
   "outputs": [
    {
     "name": "stdout",
     "output_type": "stream",
     "text": [
      "Hello 5\n",
      "Hello 6\n",
      "Hello 7\n",
      "Hello 8\n",
      "Hello 9\n"
     ]
    }
   ],
   "source": [
    "a = 5\n",
    "# Loop it if a is less than 5\n",
    "while (a<10):\n",
    "    print(\"Hello\",a)\n",
    "    a = a + 1\n",
    "#   a = 5 + 1\n",
    "#   after this, it will become a = 6, so when the loop runs again,\n",
    "#   a = a + 1 means a = 6 + 1, and so on."
   ]
  },
  {
   "cell_type": "markdown",
   "metadata": {
    "collapsed": true
   },
   "source": [
    "**Below is the short hand way of doing addition.**"
   ]
  },
  {
   "cell_type": "code",
   "execution_count": 8,
   "metadata": {},
   "outputs": [
    {
     "name": "stdout",
     "output_type": "stream",
     "text": [
      "Hello 5\n",
      "Hello 6\n",
      "Hello 7\n",
      "Hello 8\n",
      "Hello 9\n"
     ]
    }
   ],
   "source": [
    "a = 5\n",
    "while (a<10):\n",
    "    print(\"Hello\",a)\n",
    "    a += 1"
   ]
  },
  {
   "cell_type": "markdown",
   "metadata": {},
   "source": [
    "### Exercise**\n",
    "---\n",
    "**Q4. Level 1.** Create a program using while loop to count from 1 to 50.\n",
    "\n",
    "**Q5. Level 2.** Create a program that asks a user for a number, then loop and print from 1 until that number.\n",
    "\n",
    "---"
   ]
  },
  {
   "cell_type": "markdown",
   "metadata": {
    "collapsed": true
   },
   "source": [
    "## `for` loop\n",
    "#### Below are all the ways of doing a for loop\n"
   ]
  },
  {
   "cell_type": "code",
   "execution_count": 18,
   "metadata": {},
   "outputs": [
    {
     "data": {
      "text/plain": [
       "[0, 1, 2, 3, 4, 5, 6, 7, 8, 9, 10, 11, 12, 13, 14]"
      ]
     },
     "execution_count": 18,
     "metadata": {},
     "output_type": "execute_result"
    }
   ],
   "source": [
    "[i for i in range(0,15)]"
   ]
  },
  {
   "cell_type": "markdown",
   "metadata": {},
   "source": [
    "###### It can also go by a count of 2 by 2"
   ]
  },
  {
   "cell_type": "code",
   "execution_count": 13,
   "metadata": {},
   "outputs": [
    {
     "data": {
      "text/plain": [
       "[0, 2, 4, 6, 8, 10, 12, 14, 16, 18, 20, 22, 24]"
      ]
     },
     "execution_count": 13,
     "metadata": {},
     "output_type": "execute_result"
    }
   ],
   "source": [
    "[i for i in range(0,25,2)]"
   ]
  },
  {
   "cell_type": "markdown",
   "metadata": {},
   "source": [
    "### What you have learnt before"
   ]
  },
  {
   "cell_type": "code",
   "execution_count": 22,
   "metadata": {},
   "outputs": [
    {
     "name": "stdout",
     "output_type": "stream",
     "text": [
      "0\n",
      "1\n",
      "2\n",
      "--------------------\n",
      "0\n",
      "1\n",
      "2\n",
      "3\n",
      "4\n",
      "5\n",
      "6\n",
      "7\n",
      "8\n",
      "9\n"
     ]
    }
   ],
   "source": [
    "for x in range(0,3):\n",
    "    print(x)\n",
    "    \n",
    "print(\"--------------------\")\n",
    "\n",
    "for i in range(10):\n",
    "    print(i) "
   ]
  },
  {
   "cell_type": "markdown",
   "metadata": {},
   "source": [
    "### List form"
   ]
  },
  {
   "cell_type": "code",
   "execution_count": 25,
   "metadata": {},
   "outputs": [
    {
     "name": "stdout",
     "output_type": "stream",
     "text": [
      "5\n",
      "20\n",
      "1\n",
      "4\n"
     ]
    }
   ],
   "source": [
    "for i in [5,20,1,4]:\n",
    "    print (i)"
   ]
  },
  {
   "cell_type": "markdown",
   "metadata": {},
   "source": [
    "### Dictionary Form"
   ]
  },
  {
   "cell_type": "code",
   "execution_count": 26,
   "metadata": {},
   "outputs": [
    {
     "name": "stdout",
     "output_type": "stream",
     "text": [
      "a\n",
      "b\n"
     ]
    }
   ],
   "source": [
    "for i in {\"a\":1,\"b\":2}:\n",
    "    print (i)"
   ]
  },
  {
   "cell_type": "markdown",
   "metadata": {},
   "source": [
    "### Set Form"
   ]
  },
  {
   "cell_type": "code",
   "execution_count": 27,
   "metadata": {},
   "outputs": [
    {
     "name": "stdout",
     "output_type": "stream",
     "text": [
      "Erin\n",
      "Edward\n",
      "Marcus\n",
      "Samual\n"
     ]
    }
   ],
   "source": [
    "for i in set(['Edward', 'Erin', 'Samual', 'Marcus']):\n",
    "    print (i)"
   ]
  },
  {
   "cell_type": "markdown",
   "metadata": {},
   "source": [
    "### Nested Hybrid"
   ]
  },
  {
   "cell_type": "code",
   "execution_count": 28,
   "metadata": {},
   "outputs": [
    {
     "name": "stdout",
     "output_type": "stream",
     "text": [
      "Chester a\n",
      "Chester b\n",
      "Erin a\n",
      "Erin b\n",
      "Edward a\n",
      "Edward b\n",
      "Joey a\n",
      "Joey b\n"
     ]
    }
   ],
   "source": [
    "for i in set(['Edward','Erin','Joey','Chester']):\n",
    "    for y in {\"a\":1,\"b\":2}:\n",
    "        print(i,y)"
   ]
  },
  {
   "cell_type": "markdown",
   "metadata": {
    "collapsed": true
   },
   "source": [
    "## file object\n",
    "Python can also open files and do some basic editing."
   ]
  },
  {
   "cell_type": "code",
   "execution_count": 31,
   "metadata": {},
   "outputs": [
    {
     "name": "stdout",
     "output_type": "stream",
     "text": [
      "abc123/nhij\n"
     ]
    }
   ],
   "source": [
    "f = open(\"simpleoutput.txt\") #Same directory\n",
    "print(f.readline())"
   ]
  },
  {
   "cell_type": "markdown",
   "metadata": {},
   "source": [
    "### Exercise\n",
    "---\n",
    "**Q6. Level 3.** Create a program will read a txt file called **exercisefile.txt** that you have created.\n",
    "\n",
    "**Q7. Level 3.5.** Create a program that will ask user **what text file** that you need to open. The program accepts the input and proceed with printing the content of the file. "
   ]
  },
  {
   "cell_type": "markdown",
   "metadata": {
    "collapsed": true
   },
   "source": [
    "## Escaping a loop\n",
    "Use break to end the loop"
   ]
  },
  {
   "cell_type": "code",
   "execution_count": null,
   "metadata": {},
   "outputs": [],
   "source": [
    "\n",
    "import time\n",
    "f = open(\"simplefile.txt\")\n",
    "\n",
    "while True:\n",
    "    i = f.readline()\n",
    "    print (i)\n",
    "    if i == \"123\":\n",
    "        print (\"End of program\")\n",
    "        break\n",
    "    time.sleep(1.5)\n",
    "    "
   ]
  },
  {
   "cell_type": "markdown",
   "metadata": {},
   "source": [
    "### Write a file"
   ]
  },
  {
   "cell_type": "code",
   "execution_count": 23,
   "metadata": {},
   "outputs": [
    {
     "name": "stdout",
     "output_type": "stream",
     "text": [
      "abc123/nhij\n"
     ]
    }
   ],
   "source": [
    "f1 = open(\"simplefile.txt\", \"w\") #Write-W, Read - R\n",
    "f1.write(\"a\")\n",
    "f1.write(\"bc\")\n",
    "f1.writelines(\"123/n\") #Not showing in windows\n",
    "f1.writelines(\"hij\") #Not showing in windows\n",
    "f1.close()\n",
    "\n",
    "\n",
    "with open(\"simplefile.txt\") as f:\n",
    "        for i in f:\n",
    "            print(i)"
   ]
  },
  {
   "cell_type": "markdown",
   "metadata": {},
   "source": [
    "### Chapter 2 - Final Exercise \n",
    "---\n",
    "\n",
    "\n",
    "\n",
    "\n",
    "\n",
    "\n",
    "\n",
    "**Q8. Level 4.** Create a program that will ask user **what text file** that you need to open. The program will **ONLY** print **AFTER** the line that contain the keyword **PASSWORD**. Students need to prepare the specific text file matching the requirement as below. \n",
    "\n",
    "aaaaaa\n",
    "\n",
    "bbbbbb\n",
    "\n",
    "cccccc\n",
    "\n",
    "dddddd\n",
    "\n",
    "PASSWORD\n",
    "\n",
    "12345\n",
    "\n",
    "\n",
    "**Expected Output:12345**\n",
    "\n",
    "---\n",
    "\n",
    "**Q9. Level 5** Create a program that will ask user what is the **multiplication table** they need. Then the program will open an empty **simplefile.txt** and add the multiplication table to the file. \n",
    "\n",
    "**Expected Output in the file**\n",
    "\n",
    "if user wanted multiplication table of 1\n",
    "\n",
    "1X1 = 1\n",
    "\n",
    "1X2 = 2\n",
    "\n",
    "1X3 = 3\n",
    "\n",
    "1X4 = 4\n",
    "\n",
    "etc....\n",
    "\n",
    "\n"
   ]
  },
  {
   "cell_type": "code",
   "execution_count": null,
   "metadata": {
    "collapsed": true
   },
   "outputs": [],
   "source": []
  }
 ],
 "metadata": {
  "kernelspec": {
   "display_name": "Python 3",
   "language": "python",
   "name": "python3"
  },
  "language_info": {
   "codemirror_mode": {
    "name": "ipython",
    "version": 3
   },
   "file_extension": ".py",
   "mimetype": "text/x-python",
   "name": "python",
   "nbconvert_exporter": "python",
   "pygments_lexer": "ipython3",
   "version": "3.6.1"
  }
 },
 "nbformat": 4,
 "nbformat_minor": 2
}
