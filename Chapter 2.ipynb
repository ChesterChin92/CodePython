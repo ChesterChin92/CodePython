{
 "cells": [
  {
   "cell_type": "markdown",
   "metadata": {},
   "source": [
    "### Chapter 2 – Instructor Notes\n",
    "###### Instruction to Trainer – \n",
    "Demo the following codes, each demo is loosely related to the question, please ensure that students can follow.\n",
    "Suggested flow of the demo. \n",
    "Instructor shall demo a sample code and students will follow. \n",
    "\n",
    "##### Objectives of Chapter 2\n",
    "1.\tAble to user python IDLE. \n",
    "2.\tReplace command line programming with python IDLE.\n",
    "3.  Combining multiple skills learned prevously should not be an issue.\n",
    "\n",
    "##### Scope\n",
    "1.\tDemo Codes should not exceed 6 lines. \n",
    "\n",
    "##### Assistant Level\n",
    "1.\tInstructors are advised to not give away the answers to the student. \n",
    "2.\tAvoid tell them which line is causing an error. (As python had already did, student should be able to figure it out themselves.)\n",
    "3.\tCommon errors are typos or extra spacing.\n",
    "4.\tCommon confusion between double quotes “  and single quotes ‘ in python shell. \n",
    "\n",
    "\n",
    "##### Common mistakes\n",
    "1. Extra space\n",
    "2. Unnecessary or missing indentation\n",
    "3. Confusion between string and int. \n"
   ]
  },
  {
   "cell_type": "markdown",
   "metadata": {},
   "source": [
    "## `if`  else and Conditional statements"
   ]
  },
  {
   "cell_type": "code",
   "execution_count": 7,
   "metadata": {
    "collapsed": true
   },
   "outputs": [],
   "source": [
    "if []:\n",
    "    print(l)"
   ]
  },
  {
   "cell_type": "code",
   "execution_count": 8,
   "metadata": {
    "collapsed": false
   },
   "outputs": [
    {
     "name": "stdout",
     "output_type": "stream",
     "text": [
      "YAY\n"
     ]
    }
   ],
   "source": [
    "if(True):\n",
    "    print(\"YAY\")"
   ]
  },
  {
   "cell_type": "code",
   "execution_count": 2,
   "metadata": {
    "collapsed": false
   },
   "outputs": [
    {
     "name": "stdout",
     "output_type": "stream",
     "text": [
      "OK\n"
     ]
    }
   ],
   "source": [
    "i = 1\n",
    "if(i > 2):\n",
    "    print(\"Good\") #How to get 'Good'.\n",
    "elif (i==1):\n",
    "    print(\"OK\")\n",
    "elif (i==2):\n",
    "    print(\"Chester IS AWESOME!!!\")\n",
    "else:\n",
    "    print(\"Bad\") #How to get 'Bad'.\n",
    "#Q. Can you have 2 'else'?\n",
    "#Q. Can it only work with 'if'?"
   ]
  },
  {
   "cell_type": "markdown",
   "metadata": {
    "collapsed": true
   },
   "source": [
    "# Logical Operation\n",
    "1. Greater than : >\n",
    "2. Less than: <\n",
    "3. Equalvalent : ==\n",
    "4. More than equal: =>\n",
    "5. Less than equal: =<"
   ]
  },
  {
   "cell_type": "code",
   "execution_count": 4,
   "metadata": {
    "collapsed": false
   },
   "outputs": [
    {
     "name": "stdout",
     "output_type": "stream",
     "text": [
      "True\n",
      "False\n",
      "False\n",
      "True\n",
      "True\n",
      "True\n"
     ]
    }
   ],
   "source": [
    "print(5>1)\n",
    "print(5<1)\n",
    "print(5==1)\n",
    "print(5==5)\n",
    "print(4<=5)\n",
    "print(4>=4)"
   ]
  },
  {
   "cell_type": "code",
   "execution_count": 8,
   "metadata": {
    "collapsed": false
   },
   "outputs": [
    {
     "name": "stdout",
     "output_type": "stream",
     "text": [
      "True\n",
      "False\n",
      "True\n",
      "True\n",
      "False\n",
      "yay\n"
     ]
    }
   ],
   "source": [
    "print(True and True)\n",
    "print(True and False)\n",
    "print(True or False)\n",
    "print(not False)\n",
    "print(not True)\n",
    "i = 5\n",
    "if((i>2) and (i < 10)): \n",
    "    print(\"yay\")"
   ]
  },
  {
   "cell_type": "code",
   "execution_count": 18,
   "metadata": {
    "collapsed": false
   },
   "outputs": [
    {
     "name": "stdout",
     "output_type": "stream",
     "text": [
      "[6, 19, 12, 13, 17, 16, 4, 10, 4, 9]\n"
     ]
    }
   ],
   "source": [
    "import random \n",
    "`#Will cover import in details in other chapters\n",
    "print([random.randint(0,20) for i in range(10)])"
   ]
  },
  {
   "cell_type": "markdown",
   "metadata": {
    "collapsed": true
   },
   "source": [
    "## `while` loop\n",
    "\n",
    "Run while condition is still true"
   ]
  },
  {
   "cell_type": "code",
   "execution_count": 7,
   "metadata": {
    "collapsed": false
   },
   "outputs": [
    {
     "name": "stdout",
     "output_type": "stream",
     "text": [
      "Hello 5\n",
      "Hello 6\n",
      "Hello 7\n",
      "Hello 8\n",
      "Hello 9\n"
     ]
    }
   ],
   "source": [
    "a = 5\n",
    "# Loop it if a is less than 5\n",
    "while (a<10):\n",
    "    print(\"Hello\",a)\n",
    "    a = a + 1\n",
    "#   a = 5 + 1"
   ]
  },
  {
   "cell_type": "markdown",
   "metadata": {
    "collapsed": true
   },
   "source": [
    "Below is the short hand way of doing addition. "
   ]
  },
  {
   "cell_type": "code",
   "execution_count": 11,
   "metadata": {
    "collapsed": false
   },
   "outputs": [
    {
     "name": "stdout",
     "output_type": "stream",
     "text": [
      "Hello\n",
      "Hello\n",
      "Hello\n",
      "Hello\n",
      "Hello\n"
     ]
    }
   ],
   "source": [
    "a = 5\n",
    "while (a<10):\n",
    "    print(\"Hello\")\n",
    "    a += 1"
   ]
  },
  {
   "cell_type": "code",
   "execution_count": 21,
   "metadata": {
    "collapsed": false
   },
   "outputs": [
    {
     "name": "stdout",
     "output_type": "stream",
     "text": [
      "[1, 2, 3]\n",
      "[1, 2]\n",
      "[1]\n",
      "[]\n"
     ]
    }
   ],
   "source": [
    "import time\n",
    "l = [1,2,3,4] #Empty list is false in nature\n",
    "while l:\n",
    "    l.pop() #Take the last one out\n",
    "    print(l)\n",
    "    time.sleep(1) #1 second"
   ]
  },
  {
   "cell_type": "code",
   "execution_count": 22,
   "metadata": {
    "collapsed": false
   },
   "outputs": [
    {
     "name": "stdout",
     "output_type": "stream",
     "text": [
      "[17]\n",
      "[17, 21]\n",
      "[17, 21, 32]\n",
      "[17, 21, 32, 94]\n",
      "[17, 21, 32, 94, 76]\n",
      "[17, 21, 32, 94, 76, 77]\n",
      "[17, 21, 32, 94, 76, 77, 66]\n",
      "[17, 21, 32, 94, 76, 77, 66, 7]\n",
      "[17, 21, 32, 94, 76, 77, 66, 7, 12]\n",
      "[17, 21, 32, 94, 76, 77, 66, 7, 12, 15]\n",
      "[17, 21, 32, 94, 76, 77, 66, 7, 12, 15, 12]\n"
     ]
    }
   ],
   "source": [
    "import time\n",
    "import random\n",
    "\n",
    "l=[]\n",
    "while len(l) <=10:\n",
    "    l.append(random.randint(0,99))\n",
    "    print(l)\n",
    "    time.sleep(1)"
   ]
  },
  {
   "cell_type": "markdown",
   "metadata": {
    "collapsed": true
   },
   "source": [
    "## `for` loop\n",
    "#### Below are all the ways of doing a for loop\n"
   ]
  },
  {
   "cell_type": "code",
   "execution_count": 14,
   "metadata": {
    "collapsed": false
   },
   "outputs": [
    {
     "data": {
      "text/plain": [
       "[0, 2, 4, 6, 8, 10, 12, 14, 16, 18, 20, 22, 24]"
      ]
     },
     "execution_count": 14,
     "metadata": {},
     "output_type": "execute_result"
    }
   ],
   "source": [
    "[i for i in range(0,25,2)]"
   ]
  },
  {
   "cell_type": "code",
   "execution_count": 15,
   "metadata": {
    "collapsed": false
   },
   "outputs": [
    {
     "name": "stdout",
     "output_type": "stream",
     "text": [
      "0\n",
      "1\n",
      "2\n",
      "0\n",
      "1\n",
      "2\n",
      "3\n",
      "4\n",
      "5\n",
      "6\n",
      "7\n",
      "8\n",
      "9\n",
      "------List-------------\n",
      "5\n",
      "20\n",
      "1\n",
      "4\n",
      "--------Dictionary-----------\n",
      "a\n",
      "b\n",
      "--------Set-----------\n",
      "Marcus\n",
      "Samual\n",
      "Erin\n",
      "Edward\n",
      "-------Nested Hybrid------\n",
      "Chester a\n",
      "Chester b\n",
      "Joey a\n",
      "Joey b\n",
      "Erin a\n",
      "Erin b\n",
      "Edward a\n",
      "Edward b\n"
     ]
    }
   ],
   "source": [
    "# C programming - for (i=0;i<9;i++){}\n",
    "for x in range(0,3):\n",
    "    print(x)\n",
    "\n",
    "for i in range(10):\n",
    "    print(i) \n",
    "    \n",
    "print (\"------List-------------\")\n",
    "    \n",
    "for i in [5,20,1,4]:\n",
    "    print (i)\n",
    "    \n",
    "print (\"--------Dictionary-----------\")\n",
    "    \n",
    "for i in {\"a\":1,\"b\":2}:\n",
    "    print (i)\n",
    "    \n",
    "print (\"--------Set-----------\")\n",
    "    \n",
    "for i in set(['Edward', 'Erin', 'Samual', 'Marcus']):\n",
    "    print (i)\n",
    "    \n",
    "print (\"-------Nested Hybrid------\")\n",
    "\n",
    "for i in set(['Edward','Erin','Joey','Chester']):\n",
    "    for y in {\"a\":1,\"b\":2}:\n",
    "        print(i,y)"
   ]
  },
  {
   "cell_type": "markdown",
   "metadata": {
    "collapsed": true
   },
   "source": [
    "## file object\n",
    "Python can also open files and do some basic editing."
   ]
  },
  {
   "cell_type": "code",
   "execution_count": 16,
   "metadata": {
    "collapsed": false
   },
   "outputs": [
    {
     "name": "stdout",
     "output_type": "stream",
     "text": [
      "abc123/nhij\n"
     ]
    }
   ],
   "source": [
    "f = open(\"simplefile.txt\") #Same directory\n",
    "print(f.readline())"
   ]
  },
  {
   "cell_type": "markdown",
   "metadata": {
    "collapsed": true
   },
   "source": [
    "## Escaping a loop\n",
    "Use break to end the loop"
   ]
  },
  {
   "cell_type": "code",
   "execution_count": 6,
   "metadata": {
    "collapsed": false
   },
   "outputs": [
    {
     "name": "stdout",
     "output_type": "stream",
     "text": [
      "abc123/nhij\n",
      "\n",
      "\n",
      "\n"
     ]
    },
    {
     "ename": "KeyboardInterrupt",
     "evalue": "",
     "output_type": "error",
     "traceback": [
      "\u001b[0;31m---------------------------------------------------------------------------\u001b[0m",
      "\u001b[0;31mKeyboardInterrupt\u001b[0m                         Traceback (most recent call last)",
      "\u001b[0;32m<ipython-input-6-e89b549c6024>\u001b[0m in \u001b[0;36m<module>\u001b[0;34m()\u001b[0m\n\u001b[1;32m      8\u001b[0m         \u001b[0mprint\u001b[0m \u001b[1;33m(\u001b[0m\u001b[1;34m\"End of program\"\u001b[0m\u001b[1;33m)\u001b[0m\u001b[1;33m\u001b[0m\u001b[0m\n\u001b[1;32m      9\u001b[0m         \u001b[1;32mbreak\u001b[0m\u001b[1;33m\u001b[0m\u001b[0m\n\u001b[0;32m---> 10\u001b[0;31m     \u001b[0mtime\u001b[0m\u001b[1;33m.\u001b[0m\u001b[0msleep\u001b[0m\u001b[1;33m(\u001b[0m\u001b[1;36m1.5\u001b[0m\u001b[1;33m)\u001b[0m\u001b[1;33m\u001b[0m\u001b[0m\n\u001b[0m",
      "\u001b[0;31mKeyboardInterrupt\u001b[0m: "
     ]
    }
   ],
   "source": [
    "import time\n",
    "f = open(\"simplefile.txt\")\n",
    "\n",
    "while True:\n",
    "    i = f.readline()\n",
    "    print (i)\n",
    "    if i == \"123\":\n",
    "        print (\"End of program\")\n",
    "        break\n",
    "    time.sleep(1.5)"
   ]
  },
  {
   "cell_type": "markdown",
   "metadata": {},
   "source": [
    "### Write a file"
   ]
  },
  {
   "cell_type": "code",
   "execution_count": 23,
   "metadata": {
    "collapsed": false
   },
   "outputs": [
    {
     "name": "stdout",
     "output_type": "stream",
     "text": [
      "abc123/nhij\n"
     ]
    }
   ],
   "source": [
    "f1 = open(\"simplefile.txt\", \"w\") #Write-W, Read - R\n",
    "f1.write(\"a\")\n",
    "f1.write(\"bc\")\n",
    "f1.writelines(\"123/n\") #Not showing in windows\n",
    "f1.writelines(\"hij\") #Not showing in windows\n",
    "f1.close()\n",
    "\n",
    "\n",
    "with open(\"simplefile.txt\") as f:\n",
    "        for i in f:\n",
    "            print(i)"
   ]
  },
  {
   "cell_type": "markdown",
   "metadata": {},
   "source": [
    "### Exercise \n",
    "---\n",
    "**Q1. Level 1.** Set a variable called 'mood' as **'happy'**. \n",
    "\n",
    "Then if the variable is **'happy'**, then print \"Yay\".\n",
    "\n",
    "**Q2. Level 1.** Create a program using while loop to count from 1 to 50. \n",
    "\n",
    "**Q3. Level 2.** Create a program that will ask the user about his/her mood. Based on the input table below the program will have different output. \n",
    "\n",
    "Mood | Response \n",
    "--- | --- \n",
    "Happy |  \"YAY\"\n",
    "Sad | \"Be happy\"\n",
    "Hungry | \"I need food!\"\n",
    "---\n",
    "\n",
    "**Q4. Level 3.** Create a program will read a txt file called **exercisefile.txt** that you have created.\n",
    "\n",
    "**Q5. Level 3.** Create a program that will ask user **what text file** that you need to open. The program accepts the input and proceed with printing the content of the file. \n",
    "\n",
    "**Q6. Level 4.** Create a program that will ask user **what text file** that you need to open. The program will **ONLY** print **AFTER** the line that contain the keyword **PASSWORD**. Students need to prepare the specific text file matching the requirement as below. \n",
    "\n",
    "aaaaaa\n",
    "\n",
    "bbbbbb\n",
    "\n",
    "cccccc\n",
    "\n",
    "dddddd\n",
    "\n",
    "PASSWORD\n",
    "\n",
    "12345\n",
    "\n",
    "\n",
    "**Expected Output:12345**\n",
    "\n",
    "---\n",
    "\n",
    "**Q7. Level 5** Create a program that will ask user what is the **multiplication table** they need. Then the program will open an empty **simplefile.txt** and add the multiplication table to the file. \n",
    "\n",
    "**Expected Output in the file** if user wanted multiplication table of 1\n",
    "\n",
    "1X1 = 1\n",
    "\n",
    "1X2 = 2\n",
    "\n",
    "1X3 = 3\n",
    "\n",
    "1X4 = 4\n",
    "\n",
    "etc....\n",
    "\n",
    "\n"
   ]
  },
  {
   "cell_type": "code",
   "execution_count": 1,
   "metadata": {
    "collapsed": false
   },
   "outputs": [
    {
     "name": "stdout",
     "output_type": "stream",
     "text": [
      "YAY\n"
     ]
    }
   ],
   "source": [
    "mood = \"Happy\"\n",
    "if(mood==\"Happy\"):\n",
    "    print(\"YAY\")"
   ]
  },
  {
   "cell_type": "code",
   "execution_count": null,
   "metadata": {
    "collapsed": true
   },
   "outputs": [],
   "source": []
  }
 ],
 "metadata": {
  "kernelspec": {
   "display_name": "Python 3",
   "language": "python",
   "name": "python3"
  },
  "language_info": {
   "codemirror_mode": {
    "name": "ipython",
    "version": 3
   },
   "file_extension": ".py",
   "mimetype": "text/x-python",
   "name": "python",
   "nbconvert_exporter": "python",
   "pygments_lexer": "ipython3",
   "version": "3.6.0"
  }
 },
 "nbformat": 4,
 "nbformat_minor": 2
}
