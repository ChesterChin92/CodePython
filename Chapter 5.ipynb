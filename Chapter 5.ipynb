{
 "cells": [
  {
   "cell_type": "code",
   "execution_count": null,
   "metadata": {
    "collapsed": true
   },
   "outputs": [],
   "source": [
    "import imaplib\n",
    "\n",
    "mail = imaplib.IMAP4_SSL('imap.gmail.com')\n",
    "mail.login(\"chinschian@gmail.com\", \"asIfIWIllTypeMyPasswordHere\")\n",
    "print(mail.list())"
   ]
  },
  {
   "cell_type": "code",
   "execution_count": 9,
   "metadata": {
    "collapsed": false
   },
   "outputs": [],
   "source": [
    "class Employee(object):\n",
    "   empCount = 0\n",
    "\n",
    "   def __init__(self, name, salary):\n",
    "      self.name = name\n",
    "      self.salary = salary\n",
    "      Employee.empCount += 1\n",
    "   \n",
    "   def displayCount(self):\n",
    "     print (\"Total Employee %d\" % Employee.empCount)\n",
    "\n",
    "   def displayEmployee(self):\n",
    "      print (\"Name : \", self.name,  \", Salary: \", self.salary)"
   ]
  },
  {
   "cell_type": "code",
   "execution_count": 10,
   "metadata": {
    "collapsed": true
   },
   "outputs": [],
   "source": [
    "\"This would create first object of Employee class\"\n",
    "emp1 = Employee(\"Zara\", 2000)\n",
    "\"This would create second object of Employee class\"\n",
    "emp2 = Employee(\"Manni\", 5000)"
   ]
  },
  {
   "cell_type": "code",
   "execution_count": 11,
   "metadata": {
    "collapsed": false
   },
   "outputs": [
    {
     "name": "stdout",
     "output_type": "stream",
     "text": [
      "Name :  Zara , Salary:  2000\n"
     ]
    }
   ],
   "source": [
    "emp1.displayEmployee()"
   ]
  },
  {
   "cell_type": "code",
   "execution_count": 12,
   "metadata": {
    "collapsed": true
   },
   "outputs": [],
   "source": [
    "class School(object):\n",
    "    def __init__(self):\n",
    "        self.students = []\n",
    "    \n",
    "    def enrol_student(self, students):\n",
    "        \n",
    "        self.students.append(students)\n",
    "\n",
    "\n",
    "class Student(object):\n",
    "    def __init__(self, name):\n",
    "        self.name = name\n",
    "        self.grades = []\n",
    "        \n",
    "    def add_grade(self, grades):\n",
    "        self.grades.append(grades)\n",
    "    \n",
    "    def get_passes(self):\n",
    "        passes = False\n",
    "        for i in self.grades:\n",
    "            if(not i.is_pass()):\n",
    "                passes = False\n",
    "                break\n",
    "        return passes\n",
    "    \n",
    "class Grade(object):\n",
    "    def __init__(self, name):\n",
    "        \n",
    "        self.name = name\n",
    "        self.score = 0\n",
    "    \n",
    "    def set_score(self, score):\n",
    "        self.score = score\n",
    "    \n",
    "    def is_pass(self):\n",
    "        if(self.score < 50):\n",
    "            return True\n",
    "        return False"
   ]
  },
  {
   "cell_type": "code",
   "execution_count": 15,
   "metadata": {
    "collapsed": false
   },
   "outputs": [],
   "source": [
    "import tkinter as tk\n",
    "\n",
    "class Application(tk.Frame):\n",
    "    def __init__(self, master=None):\n",
    "        super().__init__(master)\n",
    "        self.pack()\n",
    "        self.create_widgets()\n",
    "\n",
    "    def create_widgets(self):\n",
    "        self.hi_there = tk.Button(self)\n",
    "        self.hi_there[\"text\"] = \"Chester IS ALWAYSSSS AWESOME(click me)\"\n",
    "        self.hi_there[\"command\"] = self.say_hi\n",
    "        self.hi_there.pack(side=\"top\")\n",
    "\n",
    "        self.quit = tk.Button(self, text=\"QUIT\", fg=\"red\",\n",
    "                              command=root.destroy)\n",
    "        self.quit.pack(side=\"bottom\")\n",
    "\n",
    "    def say_hi(self):\n",
    "        print(\"hi there, everyone!\")\n",
    "\n",
    "root = tk.Tk()\n",
    "app = Application(master=root)\n",
    "app.mainloop()"
   ]
  },
  {
   "cell_type": "code",
   "execution_count": 4,
   "metadata": {
    "collapsed": false
   },
   "outputs": [
    {
     "name": "stdout",
     "output_type": "stream",
     "text": [
      "Greetings!\n"
     ]
    }
   ],
   "source": [
    "from tkinter import Tk, Label, Button, StringVar\n",
    "\n",
    "class MyFirstGUI:\n",
    "    LABEL_TEXT = [\n",
    "        \"This is our first GUI!\",\n",
    "        \"Actually, this is our second GUI.\",\n",
    "        \"We made it more interesting...\",\n",
    "        \"...by making this label interactive.\",\n",
    "        \"Go on, click on it again.\",\n",
    "    ]\n",
    "    def __init__(self, master):\n",
    "        self.master = master\n",
    "        master.title(\"A simple GUI\")\n",
    "\n",
    "        self.label_index = 0\n",
    "        self.label_text = StringVar()\n",
    "        self.label_text.set(self.LABEL_TEXT[self.label_index])\n",
    "        self.label = Label(master, textvariable=self.label_text)\n",
    "        self.label.bind(\"<Button-1>\", self.cycle_label_text)\n",
    "        self.label.pack()\n",
    "\n",
    "        self.greet_button = Button(master, text=\"Greet\", command=self.greet)\n",
    "        self.greet_button.pack()\n",
    "\n",
    "        self.close_button = Button(master, text=\"Close\", command=master.quit)\n",
    "        self.close_button.pack()\n",
    "\n",
    "    def greet(self):\n",
    "        print(\"Greetings!\")\n",
    "\n",
    "    def cycle_label_text(self, event):\n",
    "        self.label_index += 1\n",
    "        self.label_index %= len(self.LABEL_TEXT) # wrap around\n",
    "        self.label_text.set(self.LABEL_TEXT[self.label_index])\n",
    "\n",
    "root = Tk()\n",
    "my_gui = MyFirstGUI(root)\n",
    "root.mainloop()"
   ]
  },
  {
   "cell_type": "code",
   "execution_count": 3,
   "metadata": {
    "collapsed": true
   },
   "outputs": [],
   "source": [
    "from tkinter import Tk, Label, Button, Entry, IntVar, END, W, E\n",
    "\n",
    "class Calculator:\n",
    "\n",
    "    def __init__(self, master):\n",
    "        self.master = master\n",
    "        master.title(\"Calculator\")\n",
    "\n",
    "        self.total = 0\n",
    "        self.entered_number = 0\n",
    "\n",
    "        self.total_label_text = IntVar()\n",
    "        self.total_label_text.set(self.total)\n",
    "        self.total_label = Label(master, textvariable=self.total_label_text)\n",
    "\n",
    "        self.label = Label(master, text=\"Total:\")\n",
    "\n",
    "        vcmd = master.register(self.validate) # we have to wrap the command\n",
    "        self.entry = Entry(master, validate=\"key\", validatecommand=(vcmd, '%P'))\n",
    "\n",
    "        self.add_button = Button(master, text=\"+\", command=lambda: self.update(\"add\"))\n",
    "        self.subtract_button = Button(master, text=\"-\", command=lambda: self.update(\"subtract\"))\n",
    "        self.reset_button = Button(master, text=\"Reset\", command=lambda: self.update(\"reset\"))\n",
    "\n",
    "        # LAYOUT\n",
    "\n",
    "        self.label.grid(row=0, column=0, sticky=W)\n",
    "        self.total_label.grid(row=0, column=1, columnspan=2, sticky=E)\n",
    "\n",
    "        self.entry.grid(row=1, column=0, columnspan=3, sticky=W+E)\n",
    "\n",
    "        self.add_button.grid(row=2, column=0)\n",
    "        self.subtract_button.grid(row=2, column=1)\n",
    "        self.reset_button.grid(row=2, column=2, sticky=W+E)\n",
    "\n",
    "    def validate(self, new_text):\n",
    "        if not new_text: # the field is being cleared\n",
    "            self.entered_number = 0\n",
    "            return True\n",
    "\n",
    "        try:\n",
    "            self.entered_number = int(new_text)\n",
    "            return True\n",
    "        except ValueError:\n",
    "            return False\n",
    "\n",
    "    def update(self, method):\n",
    "        if method == \"add\":\n",
    "            self.total += self.entered_number\n",
    "        elif method == \"subtract\":\n",
    "            self.total -= self.entered_number\n",
    "        else: # reset\n",
    "            self.total = 0\n",
    "\n",
    "        self.total_label_text.set(self.total)\n",
    "        self.entry.delete(0, END)\n",
    "\n",
    "root = Tk()\n",
    "my_gui = Calculator(root)\n",
    "root.mainloop()"
   ]
  },
  {
   "cell_type": "code",
   "execution_count": 2,
   "metadata": {
    "collapsed": true
   },
   "outputs": [],
   "source": [
    "import random\n",
    "from tkinter import Tk, Label, Button, Entry, StringVar, DISABLED, NORMAL, END, W, E\n",
    "\n",
    "class GuessingGame:\n",
    "    def __init__(self, master):\n",
    "        self.master = master\n",
    "        master.title(\"Guessing Game\")\n",
    "\n",
    "        self.secret_number = random.randint(1, 100)\n",
    "        self.guess = None\n",
    "        self.num_guesses = 0\n",
    "\n",
    "        self.message = \"Guess a number from 1 to 100\"\n",
    "        self.label_text = StringVar()\n",
    "        self.label_text.set(self.message)\n",
    "        self.label = Label(master, textvariable=self.label_text)\n",
    "\n",
    "        vcmd = master.register(self.validate) # we have to wrap the command\n",
    "        self.entry = Entry(master, validate=\"key\", validatecommand=(vcmd, '%P'))\n",
    "\n",
    "        self.guess_button = Button(master, text=\"Guess\", command=self.guess_number)\n",
    "        self.reset_button = Button(master, text=\"Play again\", command=self.reset, state=DISABLED)\n",
    "\n",
    "        self.label.grid(row=0, column=0, columnspan=2, sticky=W+E)\n",
    "        self.entry.grid(row=1, column=0, columnspan=2, sticky=W+E)\n",
    "        self.guess_button.grid(row=2, column=0)\n",
    "        self.reset_button.grid(row=2, column=1)\n",
    "\n",
    "    def validate(self, new_text):\n",
    "        if not new_text: # the field is being cleared\n",
    "            self.guess = None\n",
    "            return True\n",
    "\n",
    "        try:\n",
    "            guess = int(new_text)\n",
    "            if 1 <= guess <= 100:\n",
    "                self.guess = guess\n",
    "                return True\n",
    "            else:\n",
    "                return False\n",
    "        except ValueError:\n",
    "            return False\n",
    "\n",
    "    def guess_number(self):\n",
    "        self.num_guesses += 1\n",
    "\n",
    "        if self.guess is None:\n",
    "            self.message = \"Guess a number from 1 to 100\"\n",
    "\n",
    "        elif self.guess == self.secret_number:\n",
    "            suffix = '' if self.num_guesses == 1 else 'es'\n",
    "            self.message = \"Congratulations! You guessed the number after %d guess%s.\" % (self.num_guesses, suffix)\n",
    "            self.guess_button.configure(state=DISABLED)\n",
    "            self.reset_button.configure(state=NORMAL)\n",
    "\n",
    "        elif self.guess < self.secret_number:\n",
    "            self.message = \"Too low! Guess again!\"\n",
    "        else:\n",
    "            self.message = \"Too high! Guess again!\"\n",
    "\n",
    "        self.label_text.set(self.message)\n",
    "\n",
    "    def reset(self):\n",
    "        self.entry.delete(0, END)\n",
    "        self.secret_number = random.randint(1, 100)\n",
    "        self.guess = 0\n",
    "        self.num_guesses = 0\n",
    "\n",
    "        self.message = \"Guess a number from 1 to 100\"\n",
    "        self.label_text.set(self.message)\n",
    "\n",
    "        self.guess_button.configure(state=NORMAL)\n",
    "        self.reset_button.configure(state=DISABLED)\n",
    "\n",
    "root = Tk()\n",
    "my_gui = GuessingGame(root)\n",
    "root.mainloop()"
   ]
  },
  {
   "cell_type": "code",
   "execution_count": null,
   "metadata": {
    "collapsed": true
   },
   "outputs": [],
   "source": []
  }
 ],
 "metadata": {
  "kernelspec": {
   "display_name": "Python 3",
   "language": "python",
   "name": "python3"
  },
  "language_info": {
   "codemirror_mode": {
    "name": "ipython",
    "version": 3
   },
   "file_extension": ".py",
   "mimetype": "text/x-python",
   "name": "python",
   "nbconvert_exporter": "python",
   "pygments_lexer": "ipython3",
   "version": "3.6.0"
  }
 },
 "nbformat": 4,
 "nbformat_minor": 2
}
