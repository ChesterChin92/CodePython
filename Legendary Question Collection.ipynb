{
 "cells": [
  {
   "cell_type": "markdown",
   "metadata": {},
   "source": [
    "# Legendary Question Collection\n",
    "### Legendary Question 1\n",
    "---\n",
    "### Fitting in\n",
    "A box manufacturing company is facing an issue, that have a customer that always order a random yet specific size for the box. The box is used to put fruits in the box. However, as you know different fruit have different type of size.\n",
    "\n",
    "Fruits | Space\n",
    "---|---\n",
    "Grapes | 1 Space\n",
    "Orange | 2 Space \n",
    "Durian | 10 Space\n",
    "Papaya | 15 Space\n",
    "\n",
    "**Part 1.**\n",
    "Every time the customer requires a different size of box to fit his fruits. Now here comes the challenge. \n",
    "If he has 2 grapes, 2 oranges and 2 Durians. What is the size of the box he needs?\n",
    "\n",
    "\n",
    "*(LOL, that one is your average secondary school math question.)*\n",
    "\n",
    "\n",
    "**Part 2.**\n",
    "Here goes the real challenge. \n",
    "\n",
    "Say the customer wants a box with the size of X (Example 100 Spaces), write a program that can tell the customer how many combinations of fruits that he can best fit into the box. \n",
    "\n",
    "*(Nah, that’s not super hard.)*\n",
    "\n",
    "**Part 3.**\n",
    "Ultimate challenge. \n",
    "\n",
    "Each fruits have its own selling price and special condition. Shown as bellow. \n",
    "\n",
    "\n",
    "| Fruits        | Space         |Selling Price   | Condition|\n",
    "| ------------- |:-------------:| -----|-----|\n",
    "| Grape      | 1 | Rm2 |None|\n",
    "| Orange      | 2 | Rm3 |None|\n",
    "| Durian      | 10 | Rm28 |Dosen't go well with Orange|\n",
    "| Papaya      | 15 | Rm35 |None|\n",
    "\n",
    "\n",
    "\n",
    "Improve the program that you wrote previously, improve it so that it considers the condition above and return a result to the customers on the **best possible combination** that **_yields the best selling price_**.\n",
    "\n"
   ]
  },
  {
   "cell_type": "markdown",
   "metadata": {},
   "source": [
    "### Legendary Question 1\n",
    "---\n",
    "### Work In Progress"
   ]
  },
  {
   "cell_type": "code",
   "execution_count": null,
   "metadata": {
    "collapsed": true
   },
   "outputs": [],
   "source": []
  }
 ],
 "metadata": {
  "kernelspec": {
   "display_name": "Python 3",
   "language": "python",
   "name": "python3"
  },
  "language_info": {
   "codemirror_mode": {
    "name": "ipython",
    "version": 3
   },
   "file_extension": ".py",
   "mimetype": "text/x-python",
   "name": "python",
   "nbconvert_exporter": "python",
   "pygments_lexer": "ipython3",
   "version": "3.6.0"
  }
 },
 "nbformat": 4,
 "nbformat_minor": 2
}
