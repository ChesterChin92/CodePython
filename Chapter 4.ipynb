{
 "cells": [
  {
   "cell_type": "markdown",
   "metadata": {},
   "source": [
    "### Chapter 4 – Instructor Notes\n",
    "###### Instruction to Trainer – \n",
    "Demo the following codes, each demo is loosely related to the question, please ensure that students can follow.\n",
    "Suggested flow of the demo. \n",
    "Instructor shall demo a sample code and students will follow. \n",
    "\n",
    "##### Objectives of Chapter 4\n",
    "1.\tAble to seperate codes into function. \n",
    "2.  Understand concept of parameter.\n",
    "3.  Fortify the concept about data types.  \n",
    "\n",
    "##### Scope\n",
    "1.\tDemo Codes should not exceed 30 lines.\n",
    "2.  Students are **Not** required to understand HTML tag.\n",
    "3.  Student should focus more on how to read and experiment with codes. \n",
    "\n",
    "##### Assistant Level\n",
    "1.\tInstructors are advised to not give away the answers to the student. \n",
    "2.\tAvoid tell them which line is causing an error. (As python had already did, student should be able to figure it out themselves.)\n",
    "3.\tCommon errors are typos or extra spacing.\n",
    "4.\tCommon confusion between double quotes “  and single quotes ‘ in python shell. \n",
    "\n",
    "\n",
    "##### Common mistakes\n",
    "1. Indentation. Codes that belong under a certain function needs to be indented.\n"
   ]
  },
  {
   "cell_type": "markdown",
   "metadata": {
    "collapsed": true
   },
   "source": [
    "So far, we have only been using the functions that come with Python, but it\n",
    "is also possible to add new functions. Creating new functions to solve your\n",
    "particular problems is one of the most useful things about a general-purpose\n",
    "programming language\n",
    "    \n",
    "    \n",
    "### Defining your own function. "
   ]
  },
  {
   "cell_type": "code",
   "execution_count": 2,
   "metadata": {
    "collapsed": false
   },
   "outputs": [
    {
     "name": "stdout",
     "output_type": "stream",
     "text": [
      "First Line\n",
      "This is a new line!\n",
      "Second Line\n"
     ]
    }
   ],
   "source": [
    "def newLine():\n",
    "    print(\"This is a new line!\")\n",
    "    \n",
    "\n",
    "print(\"First Line\")\n",
    "newLine()\n",
    "print(\"Second Line\")"
   ]
  },
  {
   "cell_type": "markdown",
   "metadata": {
    "collapsed": true
   },
   "source": [
    "    \n",
    "### Defining two functions. "
   ]
  },
  {
   "cell_type": "code",
   "execution_count": 2,
   "metadata": {
    "collapsed": false
   },
   "outputs": [
    {
     "name": "stdout",
     "output_type": "stream",
     "text": [
      "Hello!\n",
      "GoodBye!\n",
      "Hello!\n"
     ]
    }
   ],
   "source": [
    "def sayHello():\n",
    "    print(\"Hello!\")\n",
    "    \n",
    "def sayGoodBye():\n",
    "    print(\"GoodBye!\")\n",
    "    \n",
    "sayHello()\n",
    "sayGoodBye()\n",
    "sayHello()"
   ]
  },
  {
   "cell_type": "markdown",
   "metadata": {},
   "source": [
    "### Exercise \n",
    "1. Define a function called sayGreetings, and the function prints \"Olla!\"\n",
    "2. Define a second function called sayGreetings2, and the function prints \"Annyeonghaseyo!\""
   ]
  },
  {
   "cell_type": "markdown",
   "metadata": {},
   "source": [
    "### Defining function with argument. "
   ]
  },
  {
   "cell_type": "code",
   "execution_count": 5,
   "metadata": {
    "collapsed": false
   },
   "outputs": [
    {
     "name": "stdout",
     "output_type": "stream",
     "text": [
      "This is my own message!\n",
      "This is another message!\n"
     ]
    }
   ],
   "source": [
    "def saySomething(message):\n",
    "    print(message)\n",
    "    \n",
    "saySomething(\"This is my own message!\")\n",
    "saySomething(\"This is another message!\")"
   ]
  },
  {
   "cell_type": "markdown",
   "metadata": {},
   "source": [
    "### Defining function with multiple argument. "
   ]
  },
  {
   "cell_type": "code",
   "execution_count": 7,
   "metadata": {
    "collapsed": false
   },
   "outputs": [
    {
     "name": "stdout",
     "output_type": "stream",
     "text": [
      "First MessageSecond Message\n"
     ]
    }
   ],
   "source": [
    "def saySomething(message,message2):\n",
    "    print(message+message2)\n",
    "    \n",
    "saySomething(\"First Message\",\"Second Message\")"
   ]
  },
  {
   "cell_type": "code",
   "execution_count": 8,
   "metadata": {
    "collapsed": false
   },
   "outputs": [
    {
     "name": "stdout",
     "output_type": "stream",
     "text": [
      "4\n"
     ]
    }
   ],
   "source": [
    "def plus(number1,number2):\n",
    "    print(number1+number2)\n",
    "    \n",
    "plus(1,3)\n",
    "    "
   ]
  },
  {
   "cell_type": "code",
   "execution_count": 10,
   "metadata": {
    "collapsed": false
   },
   "outputs": [
    {
     "name": "stdout",
     "output_type": "stream",
     "text": [
      "8\n"
     ]
    }
   ],
   "source": [
    "def minus(number1,number2):\n",
    "    print(number1-number2)\n",
    "    \n",
    "minus(10,2)"
   ]
  },
  {
   "cell_type": "markdown",
   "metadata": {},
   "source": [
    "### Exercise\n",
    "1. Based on sample above, define function for multiplication and division"
   ]
  },
  {
   "cell_type": "markdown",
   "metadata": {},
   "source": [
    "### Calling function within a function"
   ]
  },
  {
   "cell_type": "code",
   "execution_count": 18,
   "metadata": {
    "collapsed": false
   },
   "outputs": [
    {
     "name": "stdout",
     "output_type": "stream",
     "text": [
      "Result is...\n",
      "12\n",
      "Woohoo!\n"
     ]
    }
   ],
   "source": [
    "def plus2(num1):\n",
    "    return(num1+2)\n",
    "\n",
    "def result(number):\n",
    "    print(\"Result is...\")\n",
    "    print(number)\n",
    "    print(\"Woohoo!\")\n",
    "    \n",
    "    \n",
    "result(plus2(10))\n",
    "    \n"
   ]
  },
  {
   "cell_type": "markdown",
   "metadata": {},
   "source": [
    "### Another way of calling function within a function\n"
   ]
  },
  {
   "cell_type": "code",
   "execution_count": 21,
   "metadata": {
    "collapsed": false
   },
   "outputs": [
    {
     "name": "stdout",
     "output_type": "stream",
     "text": [
      "10\n",
      "Woohoo!!!\n"
     ]
    }
   ],
   "source": [
    "def minus2(num1):    \n",
    "    print (num1)\n",
    "    congratulations()\n",
    "    \n",
    "def congratulations():\n",
    "    print(\"Woohoo!!!\")\n",
    "    \n",
    "\n",
    "minus2(10) #Notice that I didnt call congratulation() I will still get \"WooHoo!!!\"\n",
    "    \n",
    "    \n",
    "    "
   ]
  },
  {
   "cell_type": "markdown",
   "metadata": {},
   "source": [
    "### Good Example of application of function. Design your code properly and you can reuse it many times!"
   ]
  },
  {
   "cell_type": "code",
   "execution_count": 23,
   "metadata": {
    "collapsed": false
   },
   "outputs": [
    {
     "name": "stdout",
     "output_type": "stream",
     "text": [
      "Sorry teacher I wont be late again.\n",
      "Sorry teacher I wont be late again.\n",
      "Sorry teacher I wont be late again.\n",
      "Sorry teacher I wont be late again.\n"
     ]
    }
   ],
   "source": [
    "def sorryTeacher(customMessage):\n",
    "    print(customMessage)\n",
    "    \n",
    "def loop(count,customMessage):\n",
    "    for x in range(0,count):\n",
    "        sorryTeacher(customMessage)\n",
    "    \n",
    "loop(4,\"Sorry teacher I wont be late again.\")"
   ]
  },
  {
   "cell_type": "markdown",
   "metadata": {},
   "source": [
    "### When your request changes, just do change the argument."
   ]
  },
  {
   "cell_type": "code",
   "execution_count": 28,
   "metadata": {
    "collapsed": false
   },
   "outputs": [
    {
     "name": "stdout",
     "output_type": "stream",
     "text": [
      "Sorry teacher I will submit my homework on time.\n",
      "Sorry teacher I will submit my homework on time.\n",
      "Sorry teacher I will submit my homework on time.\n",
      "Sorry teacher I will submit my homework on time.\n",
      "Sorry teacher I will submit my homework on time.\n",
      "Sorry teacher I will submit my homework on time.\n",
      "Sorry teacher I will submit my homework on time.\n",
      "Sorry teacher I will submit my homework on time.\n",
      "Sorry teacher I will submit my homework on time.\n",
      "Sorry teacher I will submit my homework on time.\n"
     ]
    }
   ],
   "source": [
    "def sorryTeacher(customMessage):\n",
    "    print(customMessage)\n",
    "    \n",
    "def loop(count,customMessage):\n",
    "    for x in range(0,count):\n",
    "        sorryTeacher(customMessage)\n",
    "    \n",
    "loop(10,\"Sorry teacher I will submit my homework on time.\") # Just change the values here."
   ]
  },
  {
   "cell_type": "markdown",
   "metadata": {},
   "source": [
    "### Exercise\n",
    "1. Design your own, \"Sorry...\" loop by referring the samples above. \n",
    "2. Design the code so that the output is as follows. \n",
    "\n",
    "\n",
    "\n",
    "        1. Sorry teacher I will submit my homework on time.\n",
    "        2. Sorry teacher I will submit my homework on time.\n",
    "        3. Sorry teacher I will submit my homework on time.\n",
    "        .\n",
    "        .\n",
    "        .\n",
    "        until 100.\n",
    "\n"
   ]
  },
  {
   "cell_type": "code",
   "execution_count": null,
   "metadata": {
    "collapsed": true
   },
   "outputs": [],
   "source": []
  }
 ],
 "metadata": {
  "kernelspec": {
   "display_name": "Python 3",
   "language": "python",
   "name": "python3"
  },
  "language_info": {
   "codemirror_mode": {
    "name": "ipython",
    "version": 3
   },
   "file_extension": ".py",
   "mimetype": "text/x-python",
   "name": "python",
   "nbconvert_exporter": "python",
   "pygments_lexer": "ipython3",
   "version": "3.6.0"
  }
 },
 "nbformat": 4,
 "nbformat_minor": 2
}
