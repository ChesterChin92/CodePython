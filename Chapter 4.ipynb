{
 "cells": [
  {
   "cell_type": "code",
   "execution_count": 1,
   "metadata": {
    "collapsed": true
   },
   "outputs": [],
   "source": [
    "'''A simple program to create an html file from a given string,\n",
    "and call the default web browser to display the file.\n",
    "\n",
    "NOTE: Ensure that the output html temp file is the same directory as your python script. \n",
    "\n",
    "'''\n",
    "\n",
    "contents = '''<!DOCTYPE html PUBLIC \"-//W3C//DTD HTML 4.01 Transitional//EN\">\n",
    "<html>\n",
    "<head>\n",
    "  <meta content=\"text/html; charset=ISO-8859-1\"\n",
    " http-equiv=\"content-type\">\n",
    "  <title>Hello</title>\n",
    "</head>\n",
    "<body>\n",
    "Hello, World!\n",
    "</body>\n",
    "</html>\n",
    "'''\n",
    "\n",
    "def main():\n",
    "    browseLocal(contents)\n",
    "\n",
    "def strToFile(text, filename):\n",
    "    \"\"\"Write a file with the given name and the given text.\"\"\"\n",
    "    output = open(filename,\"w\")\n",
    "    output.write(text)\n",
    "    output.close()\n",
    "\n",
    "def browseLocal(webpageText, filename='tempBrowseLocal.html'):\n",
    "    '''Start your webbrowser on a local file containing the text\n",
    "    with given filename.'''\n",
    "    import webbrowser, os.path\n",
    "    strToFile(webpageText, filename)\n",
    "    webbrowser.open(\"file:///\" + os.path.abspath(filename)) #elaborated for Mac\n",
    "\n",
    "main()"
   ]
  },
  {
   "cell_type": "code",
   "execution_count": null,
   "metadata": {
    "collapsed": true
   },
   "outputs": [],
   "source": []
  }
 ],
 "metadata": {
  "kernelspec": {
   "display_name": "Python 3",
   "language": "python",
   "name": "python3"
  },
  "language_info": {
   "codemirror_mode": {
    "name": "ipython",
    "version": 3
   },
   "file_extension": ".py",
   "mimetype": "text/x-python",
   "name": "python",
   "nbconvert_exporter": "python",
   "pygments_lexer": "ipython3",
   "version": "3.6.0"
  }
 },
 "nbformat": 4,
 "nbformat_minor": 2
}
