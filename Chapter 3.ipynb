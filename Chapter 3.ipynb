{
 "cells": [
  {
   "cell_type": "markdown",
   "metadata": {
    "collapsed": true
   },
   "source": [
    "### Chapter 3 – Instructor Notes\n",
    "###### Instruction to Trainer – \n",
    "Demo the following codes, each demo is loosely related to the question, please ensure that students can follow.\n",
    "Suggested flow of the demo. \n",
    "Instructor shall demo a sample code and students will follow. \n",
    "\n",
    "##### Objectives of Chapter 3\n",
    "1.\tAble to seperate codes into function. \n",
    "2.  Understand concept of parameter.\n",
    "3.  Fortify the concept about data types.  \n",
    "\n",
    "##### Scope\n",
    "1.\tDemo Codes should not exceed 12 lines.\n",
    "2.  Codes must be designed to reuse repeated function. \n",
    "\n",
    "##### Assistant Level\n",
    "1.\tInstructors are advised to not give away the answers to the student. \n",
    "2.\tAvoid tell them which line is causing an error. (As python had already did, student should be able to figure it out themselves.)\n",
    "3.\tCommon errors are typos or extra spacing.\n",
    "4.\tCommon confusion between double quotes “  and single quotes ‘ in python shell. \n",
    "\n",
    "\n",
    "##### Common mistakes\n",
    "..."
   ]
  },
  {
   "cell_type": "markdown",
   "metadata": {},
   "source": [
    "### Data Types - Numbers\n",
    "---\n",
    "Try printing all of below."
   ]
  },
  {
   "cell_type": "code",
   "execution_count": 4,
   "metadata": {
    "collapsed": false
   },
   "outputs": [
    {
     "name": "stdout",
     "output_type": "stream",
     "text": [
      "-1.0\n"
     ]
    }
   ],
   "source": [
    "i = 1\n",
    "f = 2.0\n",
    "n = -1\n",
    "n1 = -1.0"
   ]
  },
  {
   "cell_type": "markdown",
   "metadata": {},
   "source": [
    "### Data Types - String\n",
    "\n",
    "Strings are also known as Words. "
   ]
  },
  {
   "cell_type": "markdown",
   "metadata": {},
   "source": [
    "### Things to take note on Numbers and String\n",
    "---"
   ]
  },
  {
   "cell_type": "code",
   "execution_count": 4,
   "metadata": {
    "collapsed": false
   },
   "outputs": [
    {
     "name": "stdout",
     "output_type": "stream",
     "text": [
      "5050\n",
      "100\n"
     ]
    }
   ],
   "source": [
    "a = \"50\" #This is a string\n",
    "b = 50 #This is an integer\n",
    "\n",
    "print(a+a) # string + string\n",
    "print(b+b) # number + number"
   ]
  },
  {
   "cell_type": "markdown",
   "metadata": {},
   "source": [
    "### Operation on String types"
   ]
  },
  {
   "cell_type": "code",
   "execution_count": 7,
   "metadata": {
    "collapsed": false
   },
   "outputs": [
    {
     "name": "stdout",
     "output_type": "stream",
     "text": [
      "Chester is Awesome!\n"
     ]
    }
   ],
   "source": [
    "string1 = \"Chester\"\n",
    "string2 = \" is \"\n",
    "s = string1 + string2 +\"Awesome!\"\n",
    "print(s)"
   ]
  },
  {
   "cell_type": "markdown",
   "metadata": {},
   "source": [
    "### Placeholder technique"
   ]
  },
  {
   "cell_type": "code",
   "execution_count": 10,
   "metadata": {
    "collapsed": false
   },
   "outputs": [
    {
     "name": "stdout",
     "output_type": "stream",
     "text": [
      "1=b\n",
      "Penang is a State\n",
      "<class 'str'>\n"
     ]
    }
   ],
   "source": [
    "string3 = \"%s=%s\" % (1, \"b\")\n",
    "print(string3)\n",
    "string4 = \"{place1} is a {place2}\".format(place1=\"Penang\", place2=\"State\") # Print message using place holder method. \n",
    "print(string4)\n",
    "print(type(s4)) # Show the type of date, this is how you check data. "
   ]
  },
  {
   "cell_type": "markdown",
   "metadata": {},
   "source": [
    "### Some Cool Stuff About String Manipulation\n",
    "---"
   ]
  },
  {
   "cell_type": "code",
   "execution_count": 11,
   "metadata": {
    "collapsed": false
   },
   "outputs": [
    {
     "name": "stdout",
     "output_type": "stream",
     "text": [
      "abc\n",
      "ABC\n",
      "Abc\n",
      "3\n",
      "abcdefghijklmnopqrstuvwxyzABCDEFGHIJKLMNOPQRSTUVWXYZ\n",
      "a\n"
     ]
    }
   ],
   "source": [
    "print(\"abc\".lower())\n",
    "print(\"abc\".upper())\n",
    "print(\"abc\".title())\n",
    "print(len(\"abc\"))\n",
    "import string\n",
    "print(string.ascii_letters) #Print all the ascii letters. \n",
    "s=\"abc\"\n",
    "print(s[0])"
   ]
  },
  {
   "cell_type": "markdown",
   "metadata": {},
   "source": [
    "### Defining Functions of your Own\n",
    "---\n",
    "Sometimes its not fun to keep retyping code that you use regurally. Hence python allows you to create your function.\n",
    "Problem as below."
   ]
  },
  {
   "cell_type": "code",
   "execution_count": 12,
   "metadata": {
    "collapsed": false
   },
   "outputs": [
    {
     "name": "stdout",
     "output_type": "stream",
     "text": [
      "Chester is Awesome\n",
      "Brian is Awesome\n",
      "Emily is Awesome\n",
      "Marry is Awesome\n",
      "Harry is Awesome\n",
      "Potter is Awesome\n"
     ]
    }
   ],
   "source": [
    "print(\"Chester is Awesome\")\n",
    "print(\"Brian is Awesome\")\n",
    "print(\"Emily is Awesome\")\n",
    "print(\"Marry is Awesome\")\n",
    "print(\"Harry is Awesome\")\n",
    "print(\"Potter is Awesome\")"
   ]
  },
  {
   "cell_type": "markdown",
   "metadata": {},
   "source": [
    "### Defining function"
   ]
  },
  {
   "cell_type": "code",
   "execution_count": 16,
   "metadata": {
    "collapsed": false
   },
   "outputs": [
    {
     "name": "stdout",
     "output_type": "stream",
     "text": [
      "Chester is Awesome\n",
      "Brian is Awesome\n",
      "Emily is Awesome\n",
      "Marry is Awesome\n",
      "Harry is Awesome\n",
      "Potter is Awesome\n",
      "Chester is Awesome\n",
      "Brian is Awesome\n",
      "Emily is Awesome\n",
      "Marry is Awesome\n",
      "Harry is Awesome\n",
      "Potter is Awesome\n"
     ]
    }
   ],
   "source": [
    "def everyoneIsAwesome():     #Putting everything in one function \n",
    "    print(\"Chester is Awesome\")\n",
    "    print(\"Brian is Awesome\")\n",
    "    print(\"Emily is Awesome\")\n",
    "    print(\"Marry is Awesome\")\n",
    "    print(\"Harry is Awesome\")\n",
    "    print(\"Potter is Awesome\")\n",
    "\n",
    "everyoneIsAwesome() #Calling the function\n",
    "everyoneIsAwesome() #Calling the function"
   ]
  },
  {
   "cell_type": "markdown",
   "metadata": {},
   "source": [
    "### Making your function dynamic"
   ]
  },
  {
   "cell_type": "code",
   "execution_count": 9,
   "metadata": {
    "collapsed": false
   },
   "outputs": [
    {
     "name": "stdout",
     "output_type": "stream",
     "text": [
      "YO! Paul\n",
      "YO! Chester is awesome\n"
     ]
    }
   ],
   "source": [
    "def sayMyName(name): #the 'name' is called parameter\n",
    "    print(\"YO! \"+name)\n",
    "\n",
    "sayMyName(\"Paul\")\n",
    "sayMyName(\"Chester is awesome\")#We put \"Chester\" to the name parameter."
   ]
  },
  {
   "cell_type": "markdown",
   "metadata": {},
   "source": [
    "### Adding more parameters "
   ]
  },
  {
   "cell_type": "code",
   "execution_count": 12,
   "metadata": {
    "collapsed": false,
    "scrolled": true
   },
   "outputs": [
    {
     "name": "stdout",
     "output_type": "stream",
     "text": [
      "YO! Chester\n",
      "YO! Brian\n"
     ]
    }
   ],
   "source": [
    "def sayTwoNames(name,name2): #the 'name' is called parameter\n",
    "    print(\"YO! \"+name2) #THANKS CR7 FOR THE CORRECTION\n",
    "    print(\"YO! \"+name)\n",
    "\n",
    "sayTwoNames(\"Brian\",\"Chester\")"
   ]
  },
  {
   "cell_type": "code",
   "execution_count": 25,
   "metadata": {
    "collapsed": false
   },
   "outputs": [
    {
     "name": "stdout",
     "output_type": "stream",
     "text": [
      "First Number : 5\n",
      "Second Number : 10\n",
      "Total : 15\n"
     ]
    }
   ],
   "source": [
    "def sum(num1,num2):\n",
    "    print(\"First Number :\" , num1 ) #notice instead of + num1 we used , Why?\n",
    "    print(\"Second Number :\" , num2 )\n",
    "    print(\"Total :\", num1 + num2)\n",
    "    \n",
    "sum(5,10)"
   ]
  },
  {
   "cell_type": "markdown",
   "metadata": {},
   "source": [
    "### Function that return a value\n",
    "---"
   ]
  },
  {
   "cell_type": "code",
   "execution_count": 27,
   "metadata": {
    "collapsed": false
   },
   "outputs": [
    {
     "name": "stdout",
     "output_type": "stream",
     "text": [
      "400\n"
     ]
    }
   ],
   "source": [
    "def multiply(x):\n",
    "    return (x*x) #Return the answer of x multiply by x\n",
    "\n",
    "multiply(10) #This will not be shown in console\n",
    "print(multiply(20)) # This will be able to show. "
   ]
  },
  {
   "cell_type": "markdown",
   "metadata": {},
   "source": [
    "### Chaining Function\n",
    "---"
   ]
  },
  {
   "cell_type": "code",
   "execution_count": 28,
   "metadata": {
    "collapsed": false
   },
   "outputs": [
    {
     "name": "stdout",
     "output_type": "stream",
     "text": [
      "40\n"
     ]
    }
   ],
   "source": [
    "def minus5(y):\n",
    "    return (y-5) #Return the result after deducting 5\n",
    "\n",
    "print(minus5(minus5(50)))"
   ]
  },
  {
   "cell_type": "markdown",
   "metadata": {},
   "source": [
    "### Exercise\n",
    "---\n",
    "**Q1. Level 1.** Combine 4 seperate strings (\"Chester\",\"is\",\"super\",\"awesome\") into one \"Cheser is super Awesome\".\n",
    "\n",
    "**Q2. Level 1.** Using the place holder technique. Output \"Malaysia is a county.\" where you place 'Malaysia' and 'country' into the place holder. \n",
    "\n",
    "**Q3. Level 1.** Define your own function called allMyFriends() where it prints the name of your friends\n",
    "\n",
    "**Q4. Level 1.** Define your own function with parameter mySpecialFriend(name) where it prints the name of the friend which you pass the parameter to. \n",
    "\n",
    "**Q5. Level 1.** Define your own function that **returns** something. (Can be anything from a string to integer.). Then print it out. \n",
    "\n",
    "**Q6. Level 2.** \n",
    "\n",
    "**Q7. Level 3.**\n",
    "\n",
    "**Q8. Level 4.**"
   ]
  },
  {
   "cell_type": "code",
   "execution_count": null,
   "metadata": {
    "collapsed": true
   },
   "outputs": [],
   "source": []
  }
 ],
 "metadata": {
  "kernelspec": {
   "display_name": "Python 3",
   "language": "python",
   "name": "python3"
  },
  "language_info": {
   "codemirror_mode": {
    "name": "ipython",
    "version": 3
   },
   "file_extension": ".py",
   "mimetype": "text/x-python",
   "name": "python",
   "nbconvert_exporter": "python",
   "pygments_lexer": "ipython3",
   "version": "3.6.0"
  }
 },
 "nbformat": 4,
 "nbformat_minor": 2
}
