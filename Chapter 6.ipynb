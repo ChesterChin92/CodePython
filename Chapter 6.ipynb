{
 "cells": [
  {
   "cell_type": "markdown",
   "metadata": {
    "collapsed": true
   },
   "source": [
    "### Chapter 6 – Instructor Notes\n",
    "###### Instruction to Trainer – \n",
    "Demo the following codes, each demo is loosely related to the question, please ensure that students can follow.\n",
    "Suggested flow of the demo. \n",
    "Instructor shall demo a sample code and students will follow. \n",
    "\n",
    "##### Objectives of Chapter 6\n",
    "1.\tAble to seperate codes into function. \n",
    "2.  Understand concept of parameter.\n",
    "3.  Fortify the concept about data types.  \n",
    "\n",
    "##### Scope\n",
    "1.\tDemo Codes should not exceed 30 lines.\n",
    "2.  Students are **Not** required to understand HTML tag.\n",
    "3.  Student should focus more on how to read and experiment with codes. \n",
    "\n",
    "##### Assistant Level\n",
    "1.\tInstructors are advised to not give away the answers to the student. \n",
    "2.\tAvoid tell them which line is causing an error. (As python had already did, student should be able to figure it out themselves.)\n",
    "3.\tCommon errors are typos or extra spacing.\n",
    "4.\tCommon confusion between double quotes “  and single quotes ‘ in python shell. \n",
    "\n",
    "\n",
    "##### Common mistakes\n",
    "..."
   ]
  },
  {
   "cell_type": "code",
   "execution_count": null,
   "metadata": {
    "collapsed": true
   },
   "outputs": [],
   "source": [
    "'''A simple program to create an html file from a given string,\n",
    "and call the default web browser to display the file.\n",
    "\n",
    "NOTE: Ensure that the output html temp file is the same directory as your python script. \n",
    "\n",
    "'''\n",
    "\n",
    "contents = '''<!DOCTYPE html PUBLIC \"-//W3C//DTD HTML 4.01 Transitional//EN\">\n",
    "<html>\n",
    "<head>\n",
    "  <meta content=\"text/html; charset=ISO-8859-1\"\n",
    " http-equiv=\"content-type\">\n",
    "  <title>Hello</title>\n",
    "</head>\n",
    "<body>\n",
    "\n",
    "<h1>Hello, World!</h1>\n",
    "\n",
    "<img src='the link'>\n",
    "\n",
    "<br>\n",
    "<br>\n",
    "\n",
    "<button>ClickME</button>\n",
    "<button>HELLO</button>\n",
    "</body>\n",
    "</html>\n",
    "'''\n",
    "\n",
    "def main():\n",
    "    browseLocal(contents)\n",
    "\n",
    "def strToFile(text, filename):\n",
    "    \"\"\"Write a file with the given name and the given text.\"\"\"\n",
    "    output = open(filename,\"w\")\n",
    "    output.write(text)\n",
    "    output.close()\n",
    "\n",
    "def browseLocal(webpageText, filename='tempBrowseLocal.html'):\n",
    "    '''Start your webbrowser on a local file containing the text\n",
    "    with given filename.'''\n",
    "    import webbrowser, os.path\n",
    "    strToFile(webpageText, filename)\n",
    "    webbrowser.open(\"file:///\" + os.path.abspath(filename)) #elaborated for Mac\n",
    "\n",
    "main()"
   ]
  },
  {
   "cell_type": "code",
   "execution_count": null,
   "metadata": {
    "collapsed": true
   },
   "outputs": [],
   "source": [
    "Adding more hello world."
   ]
  },
  {
   "cell_type": "code",
   "execution_count": null,
   "metadata": {
    "collapsed": true
   },
   "outputs": [],
   "source": [
    "'''A simple program to create an html file from a given string,\n",
    "and call the default web browser to display the file.\n",
    "\n",
    "NOTE: Ensure that the output html temp file is the same directory as your python script. \n",
    "\n",
    "'''\n",
    "\n",
    "contents = '''<!DOCTYPE html PUBLIC \"-//W3C//DTD HTML 4.01 Transitional//EN\">\n",
    "<html>\n",
    "<head>\n",
    "  <meta content=\"text/html; charset=ISO-8859-1\"\n",
    " http-equiv=\"content-type\">\n",
    "  <title>Hello</title>\n",
    "</head>\n",
    "<body>\n",
    "\n",
    "<h1>Hello, World!</h1>\n",
    "<h2>Hello, World!</h2>\n",
    "<h3>Hello, World!</h3>\n",
    "<h4>Hello, World!</h4>\n",
    "\n",
    "\n",
    "</body>\n",
    "</html>\n",
    "'''\n",
    "\n",
    "def main():\n",
    "    browseLocal(contents)\n",
    "\n",
    "def strToFile(text, filename):\n",
    "    \"\"\"Write a file with the given name and the given text.\"\"\"\n",
    "    output = open(filename,\"w\")\n",
    "    output.write(text)\n",
    "    output.close()\n",
    "\n",
    "def browseLocal(webpageText, filename='tempBrowseLocal.html'):\n",
    "    '''Start your webbrowser on a local file containing the text\n",
    "    with given filename.'''\n",
    "    import webbrowser, os.path\n",
    "    strToFile(webpageText, filename)\n",
    "    webbrowser.open(\"file:///\" + os.path.abspath(filename)) #elaborated for Mac\n",
    "\n",
    "main()"
   ]
  },
  {
   "cell_type": "code",
   "execution_count": null,
   "metadata": {
    "collapsed": true
   },
   "outputs": [],
   "source": [
    "Adding buttons.\n",
    "\n",
    "\n",
    "<button>ClickME</button>"
   ]
  },
  {
   "cell_type": "code",
   "execution_count": null,
   "metadata": {
    "collapsed": true
   },
   "outputs": [],
   "source": [
    "'''A simple program to create an html file from a given string,\n",
    "and call the default web browser to display the file.\n",
    "\n",
    "NOTE: Ensure that the output html temp file is the same directory as your python script. \n",
    "\n",
    "'''\n",
    "\n",
    "contents = '''<!DOCTYPE html PUBLIC \"-//W3C//DTD HTML 4.01 Transitional//EN\">\n",
    "<html>\n",
    "<head>\n",
    "  <meta content=\"text/html; charset=ISO-8859-1\"\n",
    " http-equiv=\"content-type\">\n",
    "  <title>Hello</title>\n",
    "</head>\n",
    "<body>\n",
    "\n",
    "<h1>Hello, World!</h1>\n",
    "<h2>Hello, World!</h2>\n",
    "<h3>Hello, World!</h3>\n",
    "<h4>Hello, World!</h4>\n",
    "\n",
    "\n",
    "<button>ClickME</button>\n",
    "<button>HELLO</button>\n",
    "\n",
    "\n",
    "</body>\n",
    "</html>\n",
    "'''\n",
    "\n",
    "def main():\n",
    "    browseLocal(contents)\n",
    "\n",
    "def strToFile(text, filename):\n",
    "    \"\"\"Write a file with the given name and the given text.\"\"\"\n",
    "    output = open(filename,\"w\")\n",
    "    output.write(text)\n",
    "    output.close()\n",
    "\n",
    "def browseLocal(webpageText, filename='tempBrowseLocal.html'):\n",
    "    '''Start your webbrowser on a local file containing the text\n",
    "    with given filename.'''\n",
    "    import webbrowser, os.path\n",
    "    strToFile(webpageText, filename)\n",
    "    webbrowser.open(\"file:///\" + os.path.abspath(filename)) #elaborated for Mac\n",
    "\n",
    "main()"
   ]
  }
 ],
 "metadata": {
  "kernelspec": {
   "display_name": "Python 3",
   "language": "python",
   "name": "python3"
  },
  "language_info": {
   "codemirror_mode": {
    "name": "ipython",
    "version": 3
   },
   "file_extension": ".py",
   "mimetype": "text/x-python",
   "name": "python",
   "nbconvert_exporter": "python",
   "pygments_lexer": "ipython3",
   "version": "3.6.1"
  }
 },
 "nbformat": 4,
 "nbformat_minor": 2
}
