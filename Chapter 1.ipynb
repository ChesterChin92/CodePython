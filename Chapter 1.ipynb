{
 "cells": [
  {
   "cell_type": "markdown",
   "metadata": {},
   "source": [
    "# Chapter 1 – Instructor Notes\n",
    "# Instruction to Trainer – \n",
    "Demo the following codes, each demo is loosely related to the question, please ensure that students can follow.\n",
    "\n",
    "Suggested flow of the demo. \n",
    "Instructor shall demo a sample code and students will follow. \n",
    "\n",
    "### Objectives of Chapter 1\n",
    "1.\tConfidence boost for students that were never exposed to programming.\n",
    "2.\tRead error messages from the console. \n",
    "3.\tAssess their own mistakes and fix bugs.\n",
    "### Scope\n",
    "1.\tDemo Codes should not exceed 3 lines. \n",
    "### Assistant Level\n",
    "1.\tInstructors are advised to not give away the answers to the student. \n",
    "2.\tAvoid tell them which line is causing an error. (As python had already did, student should be able to figure it out themselves.)\n",
    "3.\tCommon errors are typos or extra spacing.\n",
    "4.\tCommon confusion between double quotes “  and single quotes ‘ in python shell. \n"
   ]
  },
  {
   "cell_type": "markdown",
   "metadata": {},
   "source": [
    "###### Your first program in python"
   ]
  },
  {
   "cell_type": "code",
   "execution_count": 13,
   "metadata": {
    "collapsed": false
   },
   "outputs": [
    {
     "name": "stdout",
     "output_type": "stream",
     "text": [
      "HELLO WORLD!\n"
     ]
    }
   ],
   "source": [
    "print (\"HELLO WORLD!\")"
   ]
  },
  {
   "cell_type": "markdown",
   "metadata": {
    "collapsed": true
   },
   "source": [
    "###### Sample mistakes"
   ]
  },
  {
   "cell_type": "code",
   "execution_count": 14,
   "metadata": {
    "collapsed": false
   },
   "outputs": [
    {
     "ename": "SyntaxError",
     "evalue": "invalid syntax (<ipython-input-14-600ed1985841>, line 1)",
     "output_type": "error",
     "traceback": [
      "\u001b[0;36m  File \u001b[0;32m\"<ipython-input-14-600ed1985841>\"\u001b[0;36m, line \u001b[0;32m1\u001b[0m\n\u001b[0;31m    print (HELLO WORLD!)\u001b[0m\n\u001b[0m                     ^\u001b[0m\n\u001b[0;31mSyntaxError\u001b[0m\u001b[0;31m:\u001b[0m invalid syntax\n"
     ]
    }
   ],
   "source": [
    "print (HELLO WORLD!)  \n",
    "print “Hello World”\n",
    "prit (“Hello World!”)"
   ]
  },
  {
   "cell_type": "markdown",
   "metadata": {
    "collapsed": true
   },
   "source": [
    "###### Changing the messange content"
   ]
  },
  {
   "cell_type": "code",
   "execution_count": 15,
   "metadata": {
    "collapsed": false
   },
   "outputs": [
    {
     "ename": "SyntaxError",
     "evalue": "invalid character in identifier (<ipython-input-15-33855b9e1161>, line 2)",
     "output_type": "error",
     "traceback": [
      "\u001b[0;36m  File \u001b[0;32m\"<ipython-input-15-33855b9e1161>\"\u001b[0;36m, line \u001b[0;32m2\u001b[0m\n\u001b[0;31m    print (“Hello Students Name”) #Notice the type of double quotes.\u001b[0m\n\u001b[0m                ^\u001b[0m\n\u001b[0;31mSyntaxError\u001b[0m\u001b[0;31m:\u001b[0m invalid character in identifier\n"
     ]
    }
   ],
   "source": [
    "print (\"Welcome to python\")\n",
    "print (“Hello Students Name”) #Notice the type of double quotes. "
   ]
  },
  {
   "cell_type": "markdown",
   "metadata": {
    "collapsed": true
   },
   "source": [
    "###### Variables"
   ]
  },
  {
   "cell_type": "code",
   "execution_count": 16,
   "metadata": {
    "collapsed": false
   },
   "outputs": [
    {
     "name": "stdout",
     "output_type": "stream",
     "text": [
      "3\n"
     ]
    }
   ],
   "source": [
    "bucket = 3\n",
    "print (bucket)"
   ]
  },
  {
   "cell_type": "markdown",
   "metadata": {
    "collapsed": true
   },
   "source": [
    "###### Getting input from user"
   ]
  },
  {
   "cell_type": "code",
   "execution_count": null,
   "metadata": {
    "collapsed": false
   },
   "outputs": [],
   "source": [
    "msg = input(\"Enter a word : \")\n",
    "print (msg)"
   ]
  },
  {
   "cell_type": "markdown",
   "metadata": {
    "collapsed": true
   },
   "source": [
    "###### Assigning a variable and introducing IF statement"
   ]
  },
  {
   "cell_type": "code",
   "execution_count": null,
   "metadata": {
    "collapsed": false
   },
   "outputs": [],
   "source": [
    "var = 100\n",
    "if ( var == 100 ) : print (\"Value is 100\")"
   ]
  },
  {
   "cell_type": "markdown",
   "metadata": {
    "collapsed": true
   },
   "source": [
    "###### Loop"
   ]
  },
  {
   "cell_type": "code",
   "execution_count": null,
   "metadata": {
    "collapsed": false
   },
   "outputs": [],
   "source": [
    "for x in range(0, 3):\n",
    "#print \"%d\" % (x) #python2 method\n",
    "    print(x)"
   ]
  },
  {
   "cell_type": "markdown",
   "metadata": {
    "collapsed": true
   },
   "source": [
    "###### Loop based on variable assigned. "
   ]
  },
  {
   "cell_type": "code",
   "execution_count": null,
   "metadata": {
    "collapsed": false
   },
   "outputs": [],
   "source": [
    "y = 5\n",
    "for x in range(0,y):\n",
    "    print(x)"
   ]
  },
  {
   "cell_type": "markdown",
   "metadata": {
    "collapsed": true
   },
   "source": [
    "###### Printing variable"
   ]
  },
  {
   "cell_type": "code",
   "execution_count": null,
   "metadata": {
    "collapsed": false
   },
   "outputs": [],
   "source": [
    "x = 100\n",
    "print(x)"
   ]
  },
  {
   "cell_type": "markdown",
   "metadata": {
    "collapsed": true
   },
   "source": [
    "###### Nested for loop to build multiplication table."
   ]
  },
  {
   "cell_type": "code",
   "execution_count": null,
   "metadata": {
    "collapsed": false
   },
   "outputs": [],
   "source": [
    "for x in range(1, 10):\n",
    "    for y in range(1, 10):\n",
    "        print ('%d * %d = %d' % (x, y, x*y))"
   ]
  },
  {
   "cell_type": "markdown",
   "metadata": {},
   "source": [
    "##### Chapter 1 – Hello World Exercise\n",
    "___\n",
    "\n",
    "\n",
    "**Q1. Level 1.** Print your own name [2mins]\n",
    "\n",
    "**Q2. Level 2.** Create a variable and assign 100 into it.[2mins]\n",
    "\n",
    "**Q3. Level 2.** Create a program that can ask users name and age. Then print it.[3mins]\n",
    "\n",
    "**Q4. Level 3.** Create a program that can print “Correct!” if you set your variable to 200.[5mins]\n",
    "\n",
    "*Q5. Level 3.* Create a program that can loop from[10mins]\n",
    "\n",
    "•\t1-10\n",
    "\n",
    "•\t1-100\n",
    "\n",
    "•\t1-300\n",
    "\n",
    "•\t5-100\n",
    "\n",
    "•\t90-99\n",
    "\n",
    "\n",
    "\n",
    "**[Addon]**\n",
    "**Q5.1 Level 3** Create the multiplication of 1X1,1X2...until 20.  [3mins]\n",
    "\n",
    "**Q5.2  Level 4** Create the multiplication table of 2,3,4,5,6,7 [10mins]\n",
    "\n",
    "**Q6. Level 4.** Create a program that will ask user how much loop they want for the message “Hello!” and the program will print according to the number.[5mins if you are good]\n"
   ]
  }
 ],
 "metadata": {
  "kernelspec": {
   "display_name": "Python 3",
   "language": "python",
   "name": "python3"
  },
  "language_info": {
   "codemirror_mode": {
    "name": "ipython",
    "version": 3
   },
   "file_extension": ".py",
   "mimetype": "text/x-python",
   "name": "python",
   "nbconvert_exporter": "python",
   "pygments_lexer": "ipython3",
   "version": "3.6.0"
  }
 },
 "nbformat": 4,
 "nbformat_minor": 2
}
