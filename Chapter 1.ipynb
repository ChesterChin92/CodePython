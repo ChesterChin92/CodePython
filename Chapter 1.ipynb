{
 "cells": [
  {
   "cell_type": "markdown",
   "metadata": {},
   "source": [
    "# Chapter 1 – Instructor Notes\n",
    "# Instruction to Trainer – \n",
    "Demo the following codes, each demo is loosely related to the question, please ensure that students can follow.\n",
    "\n",
    "Suggested flow of the demo. \n",
    "Instructor shall demo a sample code and students will follow. \n",
    "\n",
    "### Objectives of Chapter 1\n",
    "1.\tConfidence boost for students that were never exposed to programming.\n",
    "2.\tRead error messages from the console. \n",
    "3.\tAssess their own mistakes and fix bugs.\n",
    "\n",
    "### Scope\n",
    "1.\tDemo Codes should not exceed 3 lines. \n",
    "\n",
    "### Assistant Level\n",
    "1.\tInstructors are advised to not give away the answers to the student. \n",
    "2.\tAvoid tell them which line is causing an error. (As python had already did, student should be able to figure it out themselves.)\n",
    "3.\tCommon errors are typos or extra spacing.\n",
    "4.\tCommon confusion between double quotes “  and single quotes ‘ in python shell. \n"
   ]
  },
  {
   "cell_type": "markdown",
   "metadata": {},
   "source": [
    "###### Your first program in python"
   ]
  },
  {
   "cell_type": "code",
   "execution_count": 13,
   "metadata": {
    "collapsed": false,
    "scrolled": true
   },
   "outputs": [
    {
     "name": "stdout",
     "output_type": "stream",
     "text": [
      "HELLO WORLD!\n"
     ]
    }
   ],
   "source": [
    "print (\"HELLO WORLD!\")"
   ]
  },
  {
   "cell_type": "markdown",
   "metadata": {
    "collapsed": true
   },
   "source": [
    "###### Sample mistakes"
   ]
  },
  {
   "cell_type": "code",
   "execution_count": 14,
   "metadata": {
    "collapsed": false
   },
   "outputs": [
    {
     "ename": "SyntaxError",
     "evalue": "invalid syntax (<ipython-input-14-600ed1985841>, line 1)",
     "output_type": "error",
     "traceback": [
      "\u001b[0;36m  File \u001b[0;32m\"<ipython-input-14-600ed1985841>\"\u001b[0;36m, line \u001b[0;32m1\u001b[0m\n\u001b[0;31m    print (HELLO WORLD!)\u001b[0m\n\u001b[0m                     ^\u001b[0m\n\u001b[0;31mSyntaxError\u001b[0m\u001b[0;31m:\u001b[0m invalid syntax\n"
     ]
    }
   ],
   "source": [
    "print (HELLO WORLD!)  \n",
    "print “Hello World”\n",
    "prit (“Hello World!”)"
   ]
  },
  {
   "cell_type": "markdown",
   "metadata": {
    "collapsed": true
   },
   "source": [
    "###### Changing the messange content"
   ]
  },
  {
   "cell_type": "code",
   "execution_count": 1,
   "metadata": {
    "collapsed": false
   },
   "outputs": [
    {
     "ename": "SyntaxError",
     "evalue": "invalid character in identifier (<ipython-input-1-33855b9e1161>, line 2)",
     "output_type": "error",
     "traceback": [
      "\u001b[1;36m  File \u001b[1;32m\"<ipython-input-1-33855b9e1161>\"\u001b[1;36m, line \u001b[1;32m2\u001b[0m\n\u001b[1;33m    print (“Hello Students Name”) #Notice the type of double quotes.\u001b[0m\n\u001b[1;37m                ^\u001b[0m\n\u001b[1;31mSyntaxError\u001b[0m\u001b[1;31m:\u001b[0m invalid character in identifier\n"
     ]
    }
   ],
   "source": [
    "print (\"Welcome to python\")\n",
    "print (“Hello Students Name”) #Notice the type of double quotes. "
   ]
  },
  {
   "cell_type": "markdown",
   "metadata": {},
   "source": [
    "### Exercise\n",
    "---\n",
    "**Q1. Level 1.** Print your own name. [2mins]\n",
    "\n",
    "**Q2. Level 1.** Print the sentence \"Hello there, my name is (name)\". [2mins]"
   ]
  },
  {
   "cell_type": "markdown",
   "metadata": {
    "collapsed": true
   },
   "source": [
    "###### Variables"
   ]
  },
  {
   "cell_type": "code",
   "execution_count": 16,
   "metadata": {
    "collapsed": false
   },
   "outputs": [
    {
     "name": "stdout",
     "output_type": "stream",
     "text": [
      "3\n"
     ]
    }
   ],
   "source": [
    "bucket = 3\n",
    "print (bucket)"
   ]
  },
  {
   "cell_type": "markdown",
   "metadata": {
    "collapsed": true
   },
   "source": [
    "###### Printing variable"
   ]
  },
  {
   "cell_type": "code",
   "execution_count": 4,
   "metadata": {
    "collapsed": false
   },
   "outputs": [
    {
     "name": "stdout",
     "output_type": "stream",
     "text": [
      "50\n"
     ]
    }
   ],
   "source": [
    "x = 50\n",
    "print(x)"
   ]
  },
  {
   "cell_type": "markdown",
   "metadata": {},
   "source": [
    "###### Common mistake printing variable"
   ]
  },
  {
   "cell_type": "code",
   "execution_count": 9,
   "metadata": {
    "collapsed": false
   },
   "outputs": [
    {
     "ename": "SyntaxError",
     "evalue": "Missing parentheses in call to 'print' (<ipython-input-9-6fbbfa13325f>, line 3)",
     "output_type": "error",
     "traceback": [
      "\u001b[1;36m  File \u001b[1;32m\"<ipython-input-9-6fbbfa13325f>\"\u001b[1;36m, line \u001b[1;32m3\u001b[0m\n\u001b[1;33m    print x\u001b[0m\n\u001b[1;37m          ^\u001b[0m\n\u001b[1;31mSyntaxError\u001b[0m\u001b[1;31m:\u001b[0m Missing parentheses in call to 'print'\n"
     ]
    }
   ],
   "source": [
    "x = 20\n",
    "printx\n",
    "print x\n",
    "prnt (x)"
   ]
  },
  {
   "cell_type": "markdown",
   "metadata": {},
   "source": [
    "### Exercise\n",
    "---\n",
    "**Q3. Level 2.** Create a variable and assign 100 into it.[2mins]"
   ]
  },
  {
   "cell_type": "markdown",
   "metadata": {
    "collapsed": true
   },
   "source": [
    "###### Getting input from user"
   ]
  },
  {
   "cell_type": "code",
   "execution_count": 3,
   "metadata": {
    "collapsed": false
   },
   "outputs": [
    {
     "name": "stdout",
     "output_type": "stream",
     "text": [
      "Enter a word : Hello!\n",
      "Hello!\n"
     ]
    }
   ],
   "source": [
    "msg = input(\"Enter a word : \")\n",
    "print (msg)"
   ]
  },
  {
   "cell_type": "markdown",
   "metadata": {},
   "source": [
    "### Exercise\n",
    "---\n",
    "**Q4. Level 2.** Create a program that asks a user for his age. Then print it. [2min]\n",
    "\n",
    "**Q5. Level 2.5.** Create a program that can ask users name and age. Then print it.[3mins]"
   ]
  },
  {
   "cell_type": "markdown",
   "metadata": {
    "collapsed": true
   },
   "source": [
    "###### Assigning a variable and introducing IF statement"
   ]
  },
  {
   "cell_type": "code",
   "execution_count": 2,
   "metadata": {
    "collapsed": false
   },
   "outputs": [
    {
     "name": "stdout",
     "output_type": "stream",
     "text": [
      "Value is 100\n"
     ]
    }
   ],
   "source": [
    "var = 100\n",
    "if ( var == 100 ) : print (\"Value is 100\")"
   ]
  },
  {
   "cell_type": "markdown",
   "metadata": {},
   "source": [
    "### Exercise\n",
    "\n",
    "---\n",
    "\n",
    "**Q6. Level 3.** Create a program that can print “Correct!” if you set your variable to 200.[5mins]\n",
    "\n",
    "**Q7. Level 3.** Create a program that asks a user for a number. Then print correct if that number is 300. [7mins]"
   ]
  },
  {
   "cell_type": "markdown",
   "metadata": {
    "collapsed": true
   },
   "source": [
    "###### Loop"
   ]
  },
  {
   "cell_type": "code",
   "execution_count": 3,
   "metadata": {
    "collapsed": false
   },
   "outputs": [
    {
     "name": "stdout",
     "output_type": "stream",
     "text": [
      "0\n",
      "1\n",
      "2\n"
     ]
    }
   ],
   "source": [
    "for x in range(0, 3):\n",
    "#print \"%d\" % (x) #python2 method\n",
    "    print(x)"
   ]
  },
  {
   "cell_type": "markdown",
   "metadata": {
    "collapsed": true
   },
   "source": [
    "###### Loop based on variable assigned. "
   ]
  },
  {
   "cell_type": "code",
   "execution_count": 4,
   "metadata": {
    "collapsed": false
   },
   "outputs": [
    {
     "name": "stdout",
     "output_type": "stream",
     "text": [
      "0\n",
      "1\n",
      "2\n",
      "3\n",
      "4\n"
     ]
    }
   ],
   "source": [
    "y = 5\n",
    "for x in range(0,y):\n",
    "    print(x)"
   ]
  },
  {
   "cell_type": "markdown",
   "metadata": {},
   "source": [
    "### Exercise\n",
    "---\n",
    "**Q8. Level 3.** Create a program that can loop from[10mins]\n",
    "\n",
    "•\t1-10\n",
    "\n",
    "•\t1-100\n",
    "\n",
    "•\t1-300\n",
    "\n",
    "•\t5-100\n",
    "\n",
    "•\t90-99"
   ]
  },
  {
   "cell_type": "markdown",
   "metadata": {
    "collapsed": true
   },
   "source": [
    "###### Nested for loop to build multiplication table."
   ]
  },
  {
   "cell_type": "code",
   "execution_count": 7,
   "metadata": {
    "collapsed": false
   },
   "outputs": [
    {
     "name": "stdout",
     "output_type": "stream",
     "text": [
      "1 * 1 = 1\n",
      "1 * 2 = 2\n",
      "1 * 3 = 3\n",
      "1 * 4 = 4\n",
      "2 * 1 = 2\n",
      "2 * 2 = 4\n",
      "2 * 3 = 6\n",
      "2 * 4 = 8\n",
      "3 * 1 = 3\n",
      "3 * 2 = 6\n",
      "3 * 3 = 9\n",
      "3 * 4 = 12\n",
      "4 * 1 = 4\n",
      "4 * 2 = 8\n",
      "4 * 3 = 12\n",
      "4 * 4 = 16\n"
     ]
    }
   ],
   "source": [
    "for x in range(1, 5):\n",
    "    for y in range(1, 5):\n",
    "        print ('%d * %d = %d' % (x, y, x*y))"
   ]
  },
  {
   "cell_type": "markdown",
   "metadata": {},
   "source": [
    "### Chapter 1 – Final exercise\n",
    "___\n",
    "\n",
    "\n",
    "\n",
    "\n",
    "\n",
    "\n",
    "\n",
    "\n",
    "\n",
    "**Q9. Level 3.** Create a program that will ask user how much loop they want for the message “Hello!” and the program will print according to the number.[5mins if you are good]\n",
    "\n",
    "**Expected output Q9**\n",
    "\n",
    "How many \"Hello!\" do you want? 10\n",
    "\n",
    "Hello!\n",
    "\n",
    "Hello!\n",
    "\n",
    "Hello!\n",
    "\n",
    "Hello!\n",
    "\n",
    "Hello!\n",
    "\n",
    "Hello!\n",
    "\n",
    "Hello!\n",
    "\n",
    "Hello!\n",
    "\n",
    "Hello!\n",
    "\n",
    "Hello!\n",
    "\n",
    "\n",
    "\n",
    "**Q10 Level 3** Create the multiplication of 1X1,1X2...until 20.  [3mins]\n",
    "\n",
    "**Expected output Q10**\n",
    "\n",
    "1 x 1 = 1\n",
    "\n",
    "1 x 2 = 2\n",
    "\n",
    "1 x 3 = 3\n",
    "\n",
    "1 x 4 = 4\n",
    "\n",
    "1 x 5 = 5\n",
    "\n",
    "1 x 6 = 6\n",
    "\n",
    "1 x 7 = 7\n",
    "\n",
    "1 x 8 = 8\n",
    "\n",
    "1 x 9 = 9\n",
    "\n",
    "1 x 10 = 10\n",
    "\n",
    "1 x 11 = 11\n",
    "\n",
    "1 x 12 = 12\n",
    "\n",
    "1 x 13 = 13\n",
    "\n",
    "1 x 14 = 14\n",
    "\n",
    "1 x 15 = 15\n",
    "\n",
    "1 x 16 = 16\n",
    "\n",
    "1 x 17 = 17\n",
    "\n",
    "1 x 18 = 18\n",
    "\n",
    "1 x 19 = 19\n",
    "\n",
    "1 x 20 = 20\n",
    "\n",
    "\n",
    "**Q11  Level 4** Create the multiplication table of 2,3,4,5,6,7 [10mins]\n",
    "\n",
    "**Expected Output Q11**\n",
    "\n",
    "\n",
    "2  x  1  =  2\n",
    "\n",
    "2  x  2  =  4\n",
    "\n",
    "2  x  3  =  6\n",
    "\n",
    "2  x  4  =  8\n",
    "\n",
    "2  x  5  =  10\n",
    "\n",
    "2  x  6  =  12\n",
    "\n",
    "2  x  7  =  14\n",
    "\n",
    "3  x  2  =  6\n",
    "\n",
    "3  x  3  =  9\n",
    "\n",
    "3  x  4  =  12\n",
    "\n",
    "3  x  5  =  15\n",
    "\n",
    "3  x  6  =  18\n",
    "\n",
    "3  x  7  =  21\n",
    "\n",
    "4  x  2  =  8\n",
    "\n",
    "4  x  3  =  12\n",
    "\n",
    "4  x  4  =  16\n",
    "\n",
    "4  x  5  =  20\n",
    "\n",
    "4  x  6  =  24\n",
    "\n",
    "4  x  7  =  28\n",
    "\n",
    "5  x  2  =  10\n",
    "\n",
    "5  x  3  =  15\n",
    "\n",
    "5  x  4  =  20\n",
    "\n",
    "5  x  5  =  25\n",
    "\n",
    "5  x  6  =  30\n",
    "\n",
    "5  x  7  =  35\n",
    "\n",
    "6  x  2  =  12\n",
    "\n",
    "6  x  3  =  18\n",
    "\n",
    "6  x  4  =  24\n",
    "\n",
    "6  x  5  =  30\n",
    "\n",
    "6  x  6  =  36\n",
    "\n",
    "6  x  7  =  42\n",
    "\n",
    "7  x  2  =  14\n",
    "\n",
    "7  x  3  =  21\n",
    "\n",
    "7  x  4  =  28\n",
    "\n",
    "7  x  5  =  35\n",
    "\n",
    "7  x  6  =  42\n",
    "\n",
    "7  x  7  =  49\n",
    "\n"
   ]
  },
  {
   "cell_type": "code",
   "execution_count": null,
   "metadata": {
    "collapsed": true
   },
   "outputs": [],
   "source": []
  },
  {
   "cell_type": "code",
   "execution_count": null,
   "metadata": {
    "collapsed": true
   },
   "outputs": [],
   "source": []
  }
 ],
 "metadata": {
  "kernelspec": {
   "display_name": "Python 3",
   "language": "python",
   "name": "python3"
  },
  "language_info": {
   "codemirror_mode": {
    "name": "ipython",
    "version": 3
   },
   "file_extension": ".py",
   "mimetype": "text/x-python",
   "name": "python",
   "nbconvert_exporter": "python",
   "pygments_lexer": "ipython3",
   "version": "3.6.0"
  }
 },
 "nbformat": 4,
 "nbformat_minor": 2
}
